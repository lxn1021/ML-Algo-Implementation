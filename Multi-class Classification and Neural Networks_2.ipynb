{
 "cells": [
  {
   "cell_type": "markdown",
   "metadata": {},
   "source": [
    "# Multi-class Classification and Neural Networks"
   ]
  },
  {
   "cell_type": "markdown",
   "metadata": {},
   "source": [
    "In this part, we will implement one-vs-all logistic regression and neural networks to recognize hand-written digits."
   ]
  },
  {
   "cell_type": "markdown",
   "metadata": {},
   "source": []
  },
  {
   "cell_type": "markdown",
   "metadata": {},
   "source": [
    "# Multi-class Classification"
   ]
  },
  {
   "cell_type": "markdown",
   "metadata": {},
   "source": [
    "In this part, we will extend the implementation of logistic regression and apply it to one-vs-all classification."
   ]
  },
  {
   "cell_type": "code",
   "execution_count": 1,
   "metadata": {},
   "outputs": [],
   "source": [
    "import numpy as np\n",
    "import pandas as pd\n",
    "import mat4py as mat\n",
    "import matplotlib.pyplot as plt\n",
    "from __future__ import division\n",
    "from scipy.optimize import minimize"
   ]
  },
  {
   "cell_type": "code",
   "execution_count": 2,
   "metadata": {},
   "outputs": [
    {
     "data": {
      "text/plain": [
       "(5000, 2)"
      ]
     },
     "execution_count": 2,
     "metadata": {},
     "output_type": "execute_result"
    }
   ],
   "source": [
    "data1 = mat.loadmat(\"E:\\\\Machine Learning\\\\1\\\\ex3data1.mat\")\n",
    "data1 = pd.DataFrame(data1)\n",
    "np.shape(data1)"
   ]
  },
  {
   "cell_type": "code",
   "execution_count": 3,
   "metadata": {},
   "outputs": [
    {
     "data": {
      "text/html": [
       "<div>\n",
       "<style scoped>\n",
       "    .dataframe tbody tr th:only-of-type {\n",
       "        vertical-align: middle;\n",
       "    }\n",
       "\n",
       "    .dataframe tbody tr th {\n",
       "        vertical-align: top;\n",
       "    }\n",
       "\n",
       "    .dataframe thead th {\n",
       "        text-align: right;\n",
       "    }\n",
       "</style>\n",
       "<table border=\"1\" class=\"dataframe\">\n",
       "  <thead>\n",
       "    <tr style=\"text-align: right;\">\n",
       "      <th></th>\n",
       "      <th>X</th>\n",
       "      <th>y</th>\n",
       "    </tr>\n",
       "  </thead>\n",
       "  <tbody>\n",
       "    <tr>\n",
       "      <th>0</th>\n",
       "      <td>[0.0, 0.0, 0.0, 0.0, 0.0, 0.0, 0.0, 0.0, 0.0, ...</td>\n",
       "      <td>[10]</td>\n",
       "    </tr>\n",
       "    <tr>\n",
       "      <th>1</th>\n",
       "      <td>[0.0, 0.0, 0.0, 0.0, 0.0, 0.0, 0.0, 0.0, 0.0, ...</td>\n",
       "      <td>[10]</td>\n",
       "    </tr>\n",
       "    <tr>\n",
       "      <th>2</th>\n",
       "      <td>[0.0, 0.0, 0.0, 0.0, 0.0, 0.0, 0.0, 0.0, 0.0, ...</td>\n",
       "      <td>[10]</td>\n",
       "    </tr>\n",
       "    <tr>\n",
       "      <th>3</th>\n",
       "      <td>[0.0, 0.0, 0.0, 0.0, 0.0, 0.0, 0.0, 0.0, 0.0, ...</td>\n",
       "      <td>[10]</td>\n",
       "    </tr>\n",
       "    <tr>\n",
       "      <th>4</th>\n",
       "      <td>[0.0, 0.0, 0.0, 0.0, 0.0, 0.0, 0.0, 0.0, 0.0, ...</td>\n",
       "      <td>[10]</td>\n",
       "    </tr>\n",
       "  </tbody>\n",
       "</table>\n",
       "</div>"
      ],
      "text/plain": [
       "                                                   X     y\n",
       "0  [0.0, 0.0, 0.0, 0.0, 0.0, 0.0, 0.0, 0.0, 0.0, ...  [10]\n",
       "1  [0.0, 0.0, 0.0, 0.0, 0.0, 0.0, 0.0, 0.0, 0.0, ...  [10]\n",
       "2  [0.0, 0.0, 0.0, 0.0, 0.0, 0.0, 0.0, 0.0, 0.0, ...  [10]\n",
       "3  [0.0, 0.0, 0.0, 0.0, 0.0, 0.0, 0.0, 0.0, 0.0, ...  [10]\n",
       "4  [0.0, 0.0, 0.0, 0.0, 0.0, 0.0, 0.0, 0.0, 0.0, ...  [10]"
      ]
     },
     "execution_count": 3,
     "metadata": {},
     "output_type": "execute_result"
    }
   ],
   "source": [
    "data1.head()"
   ]
  },
  {
   "cell_type": "code",
   "execution_count": 4,
   "metadata": {},
   "outputs": [
    {
     "data": {
      "text/plain": [
       "((5000, 1), (5000, 1), (400,), list)"
      ]
     },
     "execution_count": 4,
     "metadata": {},
     "output_type": "execute_result"
    }
   ],
   "source": [
    "Y_mat = np.transpose(np.mat(data1[\"y\"]))\n",
    "X_mat = np.transpose(np.mat(data1[\"X\"]))\n",
    "\n",
    "np.shape(Y_mat), np.shape(X_mat), np.shape(X_mat[0, 0]), type(X_mat[0, 0])"
   ]
  },
  {
   "cell_type": "markdown",
   "metadata": {},
   "source": [
    "There are 5000 training examples in the dataset, where each training example is a 20 pixel by 20 pixel image of the digit. Each pixel is represented by a floating point number indicating the grayscale intensity at that location. The 20 by 20 grid of pixel is \"unrolled\" into a 400-dimensional vector."
   ]
  },
  {
   "cell_type": "markdown",
   "metadata": {},
   "source": []
  },
  {
   "cell_type": "code",
   "execution_count": 10,
   "metadata": {},
   "outputs": [],
   "source": [
    "random_indices = np.random.permutation(np.shape(X_mat)[0])\n",
    "\n",
    "X_mat_plot = X_mat[random_indices[0:100], 0]\n",
    "Y_mat_plot = Y_mat[random_indices[0:100], 0]"
   ]
  },
  {
   "cell_type": "code",
   "execution_count": 23,
   "metadata": {},
   "outputs": [],
   "source": [
    "rows = np.shape(X_mat_plot)[0]\n",
    "cols = len(X_mat_plot[0, 0])\n",
    "\n",
    "example_width = int(cols ** 0.5)\n",
    "example_height = int(cols / example_width)\n",
    "\n",
    "display_rows = int(np.floor(rows ** 0.5))\n",
    "display_cols = int(np.ceil(rows / display_rows))"
   ]
  },
  {
   "cell_type": "code",
   "execution_count": 24,
   "metadata": {},
   "outputs": [],
   "source": [
    "pad = 1\n",
    "\n",
    "display_array = -np.ones((pad + display_rows * (example_height + pad), pad + display_cols * (example_width + pad)))\n",
    "\n",
    "curr_ex = 0\n",
    "for j in range(0, display_rows, 1):\n",
    "    for i in range(0, display_cols, 1):\n",
    "        max_val = max(map(abs, X_mat_plot[curr_ex, :][0, 0]))\n",
    "        display_array[pad + j * (example_height + pad): pad + j * (example_height + pad) + example_height, \\\n",
    "            pad + i * (example_width + pad): pad + i * (example_width + pad) + example_width] = \\\n",
    "            np.reshape(X_mat_plot[curr_ex, :][0, 0], (example_height, example_width)) / max_val\n",
    "        \n",
    "        curr_ex = curr_ex + 1\n"
   ]
  },
  {
   "cell_type": "code",
   "execution_count": 25,
   "metadata": {},
   "outputs": [
    {
     "data": {
      "text/plain": [
       "<matplotlib.image.AxesImage at 0x17699a70>"
      ]
     },
     "execution_count": 25,
     "metadata": {},
     "output_type": "execute_result"
    },
    {
     "data": {
      "image/png": "[encoded data removed]",
      "text/plain": [
       "<matplotlib.figure.Figure at 0x175f2210>"
      ]
     },
     "metadata": {
      "needs_background": "light"
     },
     "output_type": "display_data"
    }
   ],
   "source": [
    "plt.figure(num = 1, figsize = (6, 6))\n",
    "\n",
    "plt.imshow(display_array, cmap = \"gray\")"
   ]
  },
  {
   "cell_type": "markdown",
   "metadata": {},
   "source": []
  },
  {
   "cell_type": "markdown",
   "metadata": {},
   "source": [
    "Vectorizing Logistic Regression"
   ]
  },
  {
   "cell_type": "markdown",
   "metadata": {},
   "source": [
    "We will be using multiple one-vs-all logistic regression models to build a multi-class classifier. Since there are 10 classes, we will need to train 10 separate logistic regression classifiers."
   ]
  },
  {
   "cell_type": "code",
   "execution_count": 60,
   "metadata": {},
   "outputs": [],
   "source": [
    "theta_array = np.zeros(len(X_mat[0, 0]) + 1)\n",
    "\n",
    "def costGradientFunc(theta_array):\n",
    "    theta_mat = np.transpose(np.mat(theta_array))\n",
    "    m = len(X_mat)\n",
    "    J_theta_row = 0\n",
    "    G_theta = np.zeros(np.shape(theta_mat)[0])\n",
    "    \n",
    "    for i in range(0, m, 1):\n",
    "        X_mat_row = np.mat((np.hstack((1, X_mat[i, 0]))))\n",
    "        Y_mat_row = (np.mat(Y_mat[i, 0]))[0, 0]\n",
    "        Y_predict_row = (1 / (1 + np.exp(-X_mat_row * theta_mat)))[0, 0]\n",
    "        J_theta_row = J_theta_row + (-Y_mat_row * np.log(Y_predict_row) - (1 - Y_mat_row) * np.log(1 - Y_predict_row))\n",
    "        \n",
    "        for j in range(0, len(G_theta), 1):\n",
    "            G_theta[j] = G_theta[j] + (Y_predict_row - Y_mat_row) * X_mat_row[0, j]\n",
    "        \n",
    "    \n",
    "    return J_theta_row / m, G_theta / m"
   ]
  },
  {
   "cell_type": "code",
   "execution_count": 61,
   "metadata": {},
   "outputs": [
    {
     "data": {
      "text/plain": [
       "(0.6931471805599917,\n",
       " array([-5.00000000e+00,  0.00000000e+00,  0.00000000e+00, -7.74530186e-08,\n",
       "         3.19876600e-06,  1.89536237e-05, -7.06376094e-04, -8.97395355e-04,\n",
       "        -3.72741263e-04, -1.10787541e-04, -1.37049401e-04, -4.11905416e-05,\n",
       "         3.09307938e-05,  7.56273049e-05,  1.66101324e-04,  1.88959823e-04,\n",
       "         1.11618541e-04,  3.44740605e-05,  2.31849497e-07, -3.65944989e-07,\n",
       "         0.00000000e+00, -2.71480120e-07,  2.68348312e-06,  1.35802658e-06,\n",
       "         5.10971729e-05,  9.29459372e-05, -1.13518367e-03, -4.04630781e-03,\n",
       "        -5.65616107e-03, -4.38249876e-03, -1.22936584e-03,  1.06402725e-03,\n",
       "         1.67724463e-03,  1.83122226e-03,  1.41359436e-03,  1.00669534e-03,\n",
       "         6.22600175e-04,  2.88468971e-04,  1.69300222e-04,  4.53328568e-05,\n",
       "         1.64277642e-05,  2.32894093e-06, -2.61429416e-05,  6.07579192e-05,\n",
       "        -2.68789968e-04, -2.19152610e-03, -1.11673884e-02, -2.41869621e-02,\n",
       "        -3.12963830e-02, -2.35164217e-02, -1.04915336e-02, -4.58342103e-03,\n",
       "        -2.20552420e-03, -7.25689198e-03, -1.98220888e-02, -2.48313796e-02,\n",
       "        -1.34236274e-02, -3.68460614e-03, -8.31286716e-04,  1.20163793e-04,\n",
       "        -9.42864675e-05,  9.81812364e-06, -4.84781693e-05, -3.22216282e-04,\n",
       "        -4.37083228e-03, -1.56078501e-02, -5.51743564e-02, -1.02255046e-01,\n",
       "        -1.30953454e-01, -1.35603926e-01, -1.44986313e-01, -1.83117808e-01,\n",
       "        -2.23883398e-01, -2.66529386e-01, -2.88212315e-01, -2.61481699e-01,\n",
       "        -1.68468511e-01, -6.60981462e-02, -1.54880439e-02, -4.76585598e-03,\n",
       "        -1.16342219e-03,  1.18945364e-05,  1.03519679e-04, -1.58746689e-03,\n",
       "        -1.38591538e-02, -5.31432174e-02, -1.49280120e-01, -2.84733107e-01,\n",
       "        -3.88598873e-01, -4.71401523e-01, -5.80730831e-01, -6.96410402e-01,\n",
       "        -7.56804731e-01, -7.69798074e-01, -7.94228138e-01, -7.79978205e-01,\n",
       "        -5.91391003e-01, -2.83839005e-01, -7.68726609e-02, -2.75779379e-02,\n",
       "        -6.36470243e-03, -1.67647949e-04, -5.62462566e-04, -4.04153318e-03,\n",
       "        -3.99032106e-02, -1.49971197e-01, -4.04324105e-01, -7.36798412e-01,\n",
       "        -9.88293896e-01, -1.19208507e+00, -1.37748702e+00, -1.42634895e+00,\n",
       "        -1.33379635e+00, -1.23709688e+00, -1.24573198e+00, -1.32430524e+00,\n",
       "        -1.20674476e+00, -7.39019568e-01, -2.67115070e-01, -9.78870874e-02,\n",
       "        -1.77541188e-02, -3.50514798e-04, -2.58326183e-03, -1.31526129e-02,\n",
       "        -9.90988481e-02, -3.61743989e-01, -8.91212541e-01, -1.43978937e+00,\n",
       "        -1.83400378e+00, -2.03530387e+00, -2.09106126e+00, -1.94875603e+00,\n",
       "        -1.70583955e+00, -1.47968961e+00, -1.42197323e+00, -1.59395506e+00,\n",
       "        -1.70112843e+00, -1.32199039e+00, -5.71019694e-01, -1.87374529e-01,\n",
       "        -2.77737534e-02, -2.42273365e-05, -4.61268517e-03, -3.34155999e-02,\n",
       "        -2.34863666e-01, -7.61809493e-01, -1.59177759e+00, -2.29905165e+00,\n",
       "        -2.57121022e+00, -2.43751707e+00, -2.23369364e+00, -2.01875596e+00,\n",
       "        -1.80614071e+00, -1.53006820e+00, -1.42070936e+00, -1.68184891e+00,\n",
       "        -2.09958108e+00, -1.93377422e+00, -9.20038031e-01, -2.58339525e-01,\n",
       "        -3.57604260e-02,  7.01455287e-05, -4.50548865e-03, -6.60670514e-02,\n",
       "        -4.62046158e-01, -1.27970131e+00, -2.29298357e+00, -2.82056128e+00,\n",
       "        -2.54656738e+00, -2.06471118e+00, -1.88491857e+00, -1.91108189e+00,\n",
       "        -1.84048875e+00, -1.48740536e+00, -1.34270417e+00, -1.78537985e+00,\n",
       "        -2.43529719e+00, -2.34020543e+00, -1.11854653e+00, -2.64343565e-01,\n",
       "        -3.91437067e-02,  6.77499746e-04, -7.74385868e-03, -1.21859198e-01,\n",
       "        -7.54696017e-01, -1.83235136e+00, -2.78988367e+00, -2.74378700e+00,\n",
       "        -1.93846031e+00, -1.44960100e+00, -1.57817643e+00, -1.97150934e+00,\n",
       "        -1.94220020e+00, -1.55975916e+00, -1.55128537e+00, -2.12740282e+00,\n",
       "        -2.68684099e+00, -2.38247716e+00, -1.11127240e+00, -2.54922447e-01,\n",
       "        -4.15072910e-02,  1.97325664e-03, -1.90561252e-02, -2.04456025e-01,\n",
       "        -1.06271632e+00, -2.30782957e+00, -2.93581416e+00, -2.31623799e+00,\n",
       "        -1.35382594e+00, -1.13176728e+00, -1.65297269e+00, -2.24113272e+00,\n",
       "        -2.23590726e+00, -2.01171354e+00, -2.06963344e+00, -2.48159101e+00,\n",
       "        -2.67620297e+00, -2.06629384e+00, -9.28720584e-01, -2.36274184e-01,\n",
       "        -3.87815696e-02,  3.15902809e-03, -3.48183384e-02, -2.75037929e-01,\n",
       "        -1.21620534e+00, -2.42195595e+00, -2.83889337e+00, -2.10857396e+00,\n",
       "        -1.38568584e+00, -1.48048105e+00, -2.16226127e+00, -2.63134846e+00,\n",
       "        -2.54432292e+00, -2.32799537e+00, -2.33124490e+00, -2.52236547e+00,\n",
       "        -2.33883379e+00, -1.56454456e+00, -6.73669442e-01, -1.90194969e-01,\n",
       "        -2.83831225e-02,  4.09572057e-03, -4.20827773e-02, -2.75134637e-01,\n",
       "        -1.13091175e+00, -2.17738398e+00, -2.65227384e+00, -2.26903773e+00,\n",
       "        -1.90192356e+00, -2.09249377e+00, -2.48994794e+00, -2.58868429e+00,\n",
       "        -2.40482668e+00, -2.22716736e+00, -2.25014771e+00, -2.20867847e+00,\n",
       "        -1.72189058e+00, -9.97029842e-01, -4.09836452e-01, -1.27133728e-01,\n",
       "        -1.70580543e-02,  3.13993466e-03, -3.03361535e-02, -1.92633016e-01,\n",
       "        -8.31583414e-01, -1.69925560e+00, -2.30632080e+00, -2.35531159e+00,\n",
       "        -2.22170039e+00, -2.21056073e+00, -2.12956569e+00, -1.95520074e+00,\n",
       "        -1.85964612e+00, -1.84542272e+00, -1.81571146e+00, -1.56096965e+00,\n",
       "        -1.04233201e+00, -5.40265087e-01, -2.15225136e-01, -6.36812454e-02,\n",
       "        -6.55875358e-03,  1.16280921e-03, -1.37871691e-02, -9.69631631e-02,\n",
       "        -5.05256347e-01, -1.13694473e+00, -1.75436237e+00, -2.02203013e+00,\n",
       "        -1.98265074e+00, -1.77567633e+00, -1.53252469e+00, -1.41101985e+00,\n",
       "        -1.40737913e+00, -1.38029305e+00, -1.20247919e+00, -9.01544086e-01,\n",
       "        -5.24493973e-01, -2.50542382e-01, -1.11804927e-01, -3.72537400e-02,\n",
       "        -3.00173078e-03,  1.42120275e-04, -3.23306457e-03, -3.11719229e-02,\n",
       "        -2.41682228e-01, -6.23768336e-01, -1.04570818e+00, -1.28992138e+00,\n",
       "        -1.25461098e+00, -1.09387791e+00, -1.00255263e+00, -9.71125512e-01,\n",
       "        -9.28781944e-01, -8.17053514e-01, -6.24953386e-01, -3.99352484e-01,\n",
       "        -1.95206305e-01, -9.23110091e-02, -4.84489174e-02, -1.92006244e-02,\n",
       "        -2.66848220e-03, -6.90103486e-06,  3.94135989e-04, -8.80224656e-03,\n",
       "        -1.08845141e-01, -3.09772003e-01, -5.15584061e-01, -6.02798155e-01,\n",
       "        -5.71924935e-01, -5.35617527e-01, -5.47558902e-01, -5.41896445e-01,\n",
       "        -4.87398855e-01, -3.78179794e-01, -2.49598514e-01, -1.39609144e-01,\n",
       "        -6.35372822e-02, -2.84109208e-02, -1.42635428e-02, -5.55548256e-03,\n",
       "        -9.60041221e-04,  1.21246535e-05,  3.07941317e-04, -8.29499578e-04,\n",
       "        -3.27515866e-02, -1.13416133e-01, -1.82518143e-01, -1.70239493e-01,\n",
       "        -1.17195094e-01, -1.20420331e-01, -1.48864951e-01, -1.53785281e-01,\n",
       "        -1.35096198e-01, -9.99232975e-02, -5.44781977e-02, -2.84421681e-02,\n",
       "        -1.46130827e-02, -4.33751539e-03, -9.44593753e-04, -5.18773141e-04,\n",
       "         6.48827912e-05, -4.87642974e-07,  6.27297794e-07,  4.61410941e-04,\n",
       "        -1.98848770e-03, -1.99058091e-02, -3.94984584e-02, -2.38204539e-02,\n",
       "        -2.46369638e-03,  1.53081819e-03,  6.72133437e-04, -1.00297948e-03,\n",
       "        -1.28705371e-03, -2.70333767e-03, -9.27770272e-04, -9.76466699e-04,\n",
       "        -1.98728743e-03, -5.19279352e-04,  2.57396529e-04,  7.32073291e-05,\n",
       "         6.74947236e-06,  0.00000000e+00, -1.24208538e-06,  2.17199105e-05,\n",
       "         5.41709746e-05, -1.98024228e-03, -2.96636389e-03, -5.73778952e-04,\n",
       "         1.47668056e-04, -7.64967266e-04,  1.70864299e-04,  5.90507649e-04,\n",
       "         1.77705465e-04, -1.28301985e-04,  1.35333512e-04, -1.94108711e-04,\n",
       "        -4.59449934e-04, -1.17801181e-04,  7.28764624e-06,  6.02839052e-07,\n",
       "         0.00000000e+00]))"
      ]
     },
     "execution_count": 61,
     "metadata": {},
     "output_type": "execute_result"
    }
   ],
   "source": [
    "costGradientFunc(theta_array)"
   ]
  },
  {
   "cell_type": "markdown",
   "metadata": {},
   "source": []
  },
  {
   "cell_type": "markdown",
   "metadata": {},
   "source": [
    "Vectorizing regularized logistic regression"
   ]
  },
  {
   "cell_type": "code",
   "execution_count": 77,
   "metadata": {},
   "outputs": [],
   "source": [
    "theta_array = np.zeros(len(X_mat[0, 0]) + 1)\n",
    "\n",
    "def costGradientFunc(theta_array, lambda1):\n",
    "    theta_mat = np.transpose(np.mat(theta_array))\n",
    "    m = len(X_mat)\n",
    "    J_theta_row = 0\n",
    "    G_theta = np.zeros(np.shape(theta_mat)[0])\n",
    "    \n",
    "    for i in range(0, m, 1):\n",
    "        X_mat_row = np.mat((np.hstack((1, X_mat[i, 0]))))\n",
    "        Y_mat_row = (np.mat(Y_mat[i, 0]))[0, 0]\n",
    "        Y_predict_row = (1 / (1 + np.exp(-X_mat_row * theta_mat)))[0, 0]\n",
    "        J_theta_row = J_theta_row + (-Y_mat_row * np.log(Y_predict_row) - (1 - Y_mat_row) * np.log(1 - Y_predict_row))\n",
    "        \n",
    "        for j in range(0, len(G_theta), 1):\n",
    "            G_theta[j] = G_theta[j] + (Y_predict_row - Y_mat_row) * X_mat_row[0, j]\n",
    "            \n",
    "    \n",
    "    J_theta = J_theta_row / m + lambda1/(2*m) * (sum(theta_array ** 2) - theta_array[0] ** 2) \n",
    "    \n",
    "    for j in range(1, len(G_theta), 1):\n",
    "        G_theta[j] = G_theta[j] + lambda1/m * (theta_array[j])\n",
    "        \n",
    "    \n",
    "    return J_theta"
   ]
  },
  {
   "cell_type": "code",
   "execution_count": 78,
   "metadata": {},
   "outputs": [
    {
     "data": {
      "text/plain": [
       "0.6931471805599917"
      ]
     },
     "execution_count": 78,
     "metadata": {},
     "output_type": "execute_result"
    }
   ],
   "source": [
    "costGradientFunc(theta_array, 1)"
   ]
  },
  {
   "cell_type": "markdown",
   "metadata": {},
   "source": []
  },
  {
   "cell_type": "markdown",
   "metadata": {},
   "source": [
    "# Neural Networks"
   ]
  },
  {
   "cell_type": "markdown",
   "metadata": {},
   "source": [
    "Logistic regression cannot form more complex hypotheses as it is only a linear classifier."
   ]
  },
  {
   "cell_type": "markdown",
   "metadata": {},
   "source": [
    "In this part, we will implement a neural network to recognize handwritten digits. The neural network will be able to represent complex models that form non-linear hypotheses."
   ]
  },
  {
   "cell_type": "code",
   "execution_count": 79,
   "metadata": {},
   "outputs": [
    {
     "data": {
      "text/plain": [
       "((25, 401), (10, 26))"
      ]
     },
     "execution_count": 79,
     "metadata": {},
     "output_type": "execute_result"
    }
   ],
   "source": [
    "data2 = mat.loadmat(\"E:\\\\Machine Learning\\\\1\\\\ex3weights.mat\")\n",
    "\n",
    "theta1_nn_matrix = np.mat(data2[\"Theta1\"])\n",
    "theta2_nn_matrix = np.mat(data2[\"Theta2\"])\n",
    "\n",
    "np.shape(theta1_nn_matrix), np.shape(theta2_nn_matrix)"
   ]
  },
  {
   "cell_type": "markdown",
   "metadata": {},
   "source": [
    "Feedforward Propagation and Prediction"
   ]
  },
  {
   "cell_type": "code",
   "execution_count": 80,
   "metadata": {},
   "outputs": [],
   "source": [
    "data1 = mat.loadmat(\"E:\\\\Machine Learning\\\\1\\\\ex3data1.mat\")"
   ]
  },
  {
   "cell_type": "code",
   "execution_count": 81,
   "metadata": {},
   "outputs": [
    {
     "data": {
      "text/plain": [
       "((5000, 1), (5000, 401))"
      ]
     },
     "execution_count": 81,
     "metadata": {},
     "output_type": "execute_result"
    }
   ],
   "source": [
    "one = np.transpose(np.mat(np.ones(len(data1[\"X\"]))))\n",
    "\n",
    "Y_nn_matrix = np.mat(data1[\"y\"])\n",
    "X_nn_matrix = np.hstack((one, np.mat(data1[\"X\"])))\n",
    "\n",
    "\n",
    "np.shape(Y_nn_matrix), np.shape(X_nn_matrix)"
   ]
  },
  {
   "cell_type": "code",
   "execution_count": 82,
   "metadata": {},
   "outputs": [],
   "source": [
    "def predict(theta1, theta2):\n",
    "    m = np.shape(X_nn_matrix)[0]\n",
    "    num_labels = np.shape(theta2)[0]\n",
    "    \n",
    "    p = np.zeros(m)\n",
    "    \n",
    "    H_x_layer2 = 1 / (1 + np.exp(-X_nn_matrix * np.transpose(theta1)))\n",
    "    \n",
    "    one = np.transpose(np.mat(np.ones(m)))\n",
    "    input_layer2 = np.hstack((one, H_x_layer2))\n",
    "    \n",
    "    H_x_layer3 = 1 / (1 + np.exp(-input_layer2 * np.transpose(theta2)))\n",
    "    \n",
    "    \n",
    "    for i in range(0, m, 1):\n",
    "        list1 = []\n",
    "        \n",
    "        for j in range(0, num_labels, 1):\n",
    "            list1.append(H_x_layer3[i, j])\n",
    "    \n",
    "        p[i] = int(list1.index(max(list1)) + 1)\n",
    "        \n",
    "    \n",
    "    return p"
   ]
  },
  {
   "cell_type": "code",
   "execution_count": 83,
   "metadata": {},
   "outputs": [
    {
     "data": {
      "text/plain": [
       "1.0     507\n",
       "5.0     506\n",
       "10.0    505\n",
       "6.0     504\n",
       "8.0     502\n",
       "4.0     499\n",
       "7.0     496\n",
       "9.0     496\n",
       "2.0     494\n",
       "3.0     491\n",
       "dtype: int64"
      ]
     },
     "execution_count": 83,
     "metadata": {},
     "output_type": "execute_result"
    }
   ],
   "source": [
    "pd.Series(predict(theta1_nn_matrix, theta2_nn_matrix)).value_counts()"
   ]
  },
  {
   "cell_type": "markdown",
   "metadata": {},
   "source": []
  }
 ],
 "metadata": {
  "kernelspec": {
   "display_name": "Python 2",
   "language": "python",
   "name": "python2"
  },
  "language_info": {
   "codemirror_mode": {
    "name": "ipython",
    "version": 2
   },
   "file_extension": ".py",
   "mimetype": "text/x-python",
   "name": "python",
   "nbconvert_exporter": "python",
   "pygments_lexer": "ipython2",
   "version": "2.7.14"
  }
 },
 "nbformat": 4,
 "nbformat_minor": 2
}
