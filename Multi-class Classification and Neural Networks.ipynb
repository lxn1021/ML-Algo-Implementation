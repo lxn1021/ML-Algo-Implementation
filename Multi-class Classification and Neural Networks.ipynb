{
 "cells": [
  {
   "cell_type": "markdown",
   "metadata": {},
   "source": [
    "# Multi-class Classification and Neural Networks"
   ]
  },
  {
   "cell_type": "markdown",
   "metadata": {},
   "source": [
    "In this part, we will implement one-vs-all logistic regression and neural networks to recognize hand-written digits."
   ]
  },
  {
   "cell_type": "markdown",
   "metadata": {},
   "source": []
  },
  {
   "cell_type": "markdown",
   "metadata": {},
   "source": [
    "# Multi-class Classification"
   ]
  },
  {
   "cell_type": "markdown",
   "metadata": {},
   "source": [
    "In this part, we will extend the implementation of logistic regression and apply it to one-vs-all classification."
   ]
  },
  {
   "cell_type": "code",
   "execution_count": 407,
   "metadata": {},
   "outputs": [],
   "source": [
    "import numpy as np\n",
    "import pandas as pd\n",
    "import mat4py as mat\n",
    "import matplotlib.pyplot as plt\n",
    "from __future__ import division\n",
    "from scipy.optimize import minimize"
   ]
  },
  {
   "cell_type": "code",
   "execution_count": 35,
   "metadata": {},
   "outputs": [
    {
     "data": {
      "text/plain": [
       "(5000, 2)"
      ]
     },
     "execution_count": 35,
     "metadata": {},
     "output_type": "execute_result"
    }
   ],
   "source": [
    "data1 = mat.loadmat(\"E:\\\\Machine Learning\\\\1\\\\ex3data1.mat\")\n",
    "data1 = pd.DataFrame(data1)\n",
    "np.shape(data1)"
   ]
  },
  {
   "cell_type": "code",
   "execution_count": 36,
   "metadata": {},
   "outputs": [
    {
     "data": {
      "text/html": [
       "<div>\n",
       "<style scoped>\n",
       "    .dataframe tbody tr th:only-of-type {\n",
       "        vertical-align: middle;\n",
       "    }\n",
       "\n",
       "    .dataframe tbody tr th {\n",
       "        vertical-align: top;\n",
       "    }\n",
       "\n",
       "    .dataframe thead th {\n",
       "        text-align: right;\n",
       "    }\n",
       "</style>\n",
       "<table border=\"1\" class=\"dataframe\">\n",
       "  <thead>\n",
       "    <tr style=\"text-align: right;\">\n",
       "      <th></th>\n",
       "      <th>X</th>\n",
       "      <th>y</th>\n",
       "    </tr>\n",
       "  </thead>\n",
       "  <tbody>\n",
       "    <tr>\n",
       "      <th>0</th>\n",
       "      <td>[0.0, 0.0, 0.0, 0.0, 0.0, 0.0, 0.0, 0.0, 0.0, ...</td>\n",
       "      <td>[10]</td>\n",
       "    </tr>\n",
       "    <tr>\n",
       "      <th>1</th>\n",
       "      <td>[0.0, 0.0, 0.0, 0.0, 0.0, 0.0, 0.0, 0.0, 0.0, ...</td>\n",
       "      <td>[10]</td>\n",
       "    </tr>\n",
       "    <tr>\n",
       "      <th>2</th>\n",
       "      <td>[0.0, 0.0, 0.0, 0.0, 0.0, 0.0, 0.0, 0.0, 0.0, ...</td>\n",
       "      <td>[10]</td>\n",
       "    </tr>\n",
       "    <tr>\n",
       "      <th>3</th>\n",
       "      <td>[0.0, 0.0, 0.0, 0.0, 0.0, 0.0, 0.0, 0.0, 0.0, ...</td>\n",
       "      <td>[10]</td>\n",
       "    </tr>\n",
       "    <tr>\n",
       "      <th>4</th>\n",
       "      <td>[0.0, 0.0, 0.0, 0.0, 0.0, 0.0, 0.0, 0.0, 0.0, ...</td>\n",
       "      <td>[10]</td>\n",
       "    </tr>\n",
       "  </tbody>\n",
       "</table>\n",
       "</div>"
      ],
      "text/plain": [
       "                                                   X     y\n",
       "0  [0.0, 0.0, 0.0, 0.0, 0.0, 0.0, 0.0, 0.0, 0.0, ...  [10]\n",
       "1  [0.0, 0.0, 0.0, 0.0, 0.0, 0.0, 0.0, 0.0, 0.0, ...  [10]\n",
       "2  [0.0, 0.0, 0.0, 0.0, 0.0, 0.0, 0.0, 0.0, 0.0, ...  [10]\n",
       "3  [0.0, 0.0, 0.0, 0.0, 0.0, 0.0, 0.0, 0.0, 0.0, ...  [10]\n",
       "4  [0.0, 0.0, 0.0, 0.0, 0.0, 0.0, 0.0, 0.0, 0.0, ...  [10]"
      ]
     },
     "execution_count": 36,
     "metadata": {},
     "output_type": "execute_result"
    }
   ],
   "source": [
    "data1.head()"
   ]
  },
  {
   "cell_type": "code",
   "execution_count": 87,
   "metadata": {},
   "outputs": [
    {
     "data": {
      "text/plain": [
       "((5000, 1), (5000, 1), (400,), list)"
      ]
     },
     "execution_count": 87,
     "metadata": {},
     "output_type": "execute_result"
    }
   ],
   "source": [
    "Y_matrix = np.transpose(np.mat(data1[\"y\"]))\n",
    "X_matrix = np.transpose(np.mat(data1[\"X\"]))\n",
    "\n",
    "np.shape(Y_matrix), np.shape(X_matrix), np.shape(X_matrix[0, 0]), type(X_matrix[0, 0])"
   ]
  },
  {
   "cell_type": "markdown",
   "metadata": {},
   "source": [
    "There are 5000 training examples in the dataset, where each training example is a 20 pixel by 20 pixel image of the digit. Each pixel is represented by a floating point number indicating the grayscale intensity at that location. The 20 by 20 grid of pixel is \"unrolled\" into a 400-dimensional vector."
   ]
  },
  {
   "cell_type": "markdown",
   "metadata": {},
   "source": []
  },
  {
   "cell_type": "markdown",
   "metadata": {},
   "source": [
    "Visualizing the data"
   ]
  },
  {
   "cell_type": "code",
   "execution_count": 139,
   "metadata": {},
   "outputs": [],
   "source": [
    "random_indices = np.random.permutation(np.shape(X_matrix)[0])\n",
    "\n",
    "X_matrix_plot = X_matrix[random_indices[0:100], 0]\n",
    "Y_matrix_plot = Y_matrix[random_indices[0:100], 0]"
   ]
  },
  {
   "cell_type": "code",
   "execution_count": 154,
   "metadata": {},
   "outputs": [],
   "source": [
    "rows = np.shape(X_matrix_plot)[0]\n",
    "cols = len(X_matrix_plot[0, 0])\n",
    "\n",
    "example_width = int(cols ** 0.5)\n",
    "example_height = cols / example_width\n",
    "\n",
    "display_rows = int(np.floor(rows ** 0.5))\n",
    "display_cols = int(np.ceil(rows / display_rows))"
   ]
  },
  {
   "cell_type": "code",
   "execution_count": 227,
   "metadata": {},
   "outputs": [],
   "source": [
    "pad = 1\n",
    "\n",
    "display_array = -np.ones((pad + display_rows * (example_height + pad), pad + display_cols * (example_width + pad)))\n",
    "\n",
    "curr_ex = 0\n",
    "for j in range(0, display_rows, 1):\n",
    "    for i in range(0, display_cols, 1):\n",
    "        max_val = max(map(abs, X_matrix_plot[curr_ex, :][0, 0]))\n",
    "        display_array[pad + j * (example_height + pad): pad + j * (example_height + pad) + example_height, \\\n",
    "            pad + i * (example_width + pad): pad + i * (example_width + pad) + example_width] = \\\n",
    "            np.reshape(X_matrix_plot[curr_ex, :][0, 0], (example_height, example_width)) / max_val\n",
    "        \n",
    "        curr_ex = curr_ex + 1"
   ]
  },
  {
   "cell_type": "code",
   "execution_count": 249,
   "metadata": {},
   "outputs": [
    {
     "data": {
      "text/plain": [
       "<matplotlib.image.AxesImage at 0x1e0aa3b0>"
      ]
     },
     "execution_count": 249,
     "metadata": {},
     "output_type": "execute_result"
    },
    {
     "data": {
      "image/png": "[encoded data removed]",
      "text/plain": [
       "<matplotlib.figure.Figure at 0x1e041090>"
      ]
     },
     "metadata": {
      "needs_background": "light"
     },
     "output_type": "display_data"
    }
   ],
   "source": [
    "plt.figure(num = 1, figsize = (6, 6))\n",
    "\n",
    "plt.imshow(display_array, cmap = \"gray\")"
   ]
  },
  {
   "cell_type": "markdown",
   "metadata": {},
   "source": []
  },
  {
   "cell_type": "markdown",
   "metadata": {},
   "source": [
    "Vectorizing Logistic Regression"
   ]
  },
  {
   "cell_type": "markdown",
   "metadata": {},
   "source": [
    "We will be using multiple one-vs-all logistic regression models to build a multi-class classifier. Since there are 10 classes, we will need to train 10 separate logistic regression classifiers."
   ]
  },
  {
   "cell_type": "markdown",
   "metadata": {},
   "source": [
    "Cost function: J_theta = 1/m * sum(-Y * log(H_x) - (1 - Y) * log(1 - H_x))\n",
    "H_x = 1 / (1 + exp(-(theta0 * X0 + theta1 * X1 + ... + thetan * Xn)))"
   ]
  },
  {
   "cell_type": "markdown",
   "metadata": {},
   "source": [
    "Gradient function: G_theta_j = 1/m * sum((H_x - Y) * X_j)"
   ]
  },
  {
   "cell_type": "code",
   "execution_count": 374,
   "metadata": {},
   "outputs": [],
   "source": [
    "theta_array = np.zeros(len(X_matrix[0, 0]) + 1)\n",
    "\n",
    "def costGradientFunc(theta_array):\n",
    "    theta_matrix = np.transpose(np.mat(theta_array))\n",
    "    m = len(X_matrix)\n",
    "    J_theta_row = 0\n",
    "    G_theta = np.zeros(np.shape(theta_matrix)[0])\n",
    "    \n",
    "    for i in range(0, m, 1):\n",
    "        X_matrix_row = np.mat((np.hstack((1, X_matrix[0, 0]))))\n",
    "        Y_matrix_row = (np.mat(Y_matrix[0, 0]))[0, 0]\n",
    "        H_x_row = (1 / (1 + np.exp(-X_matrix_row * theta_matrix)))[0, 0]\n",
    "        J_theta_row = J_theta_row + (-Y_matrix_row * np.log(H_x_row) - (1 - Y_matrix_row) * np.log(1 - H_x_row))\n",
    "        \n",
    "        for j in range(0, len(G_theta), 1):\n",
    "            G_theta[j] = G_theta[j] + (H_x_row - Y_matrix_row) * X_matrix_row[0, j]\n",
    "        \n",
    "    \n",
    "    return J_theta_row / m, G_theta / m"
   ]
  },
  {
   "cell_type": "code",
   "execution_count": 376,
   "metadata": {},
   "outputs": [
    {
     "data": {
      "text/plain": [
       "(0.6931471805599917,\n",
       " array([-9.50000000e+00,  0.00000000e+00,  0.00000000e+00,  0.00000000e+00,\n",
       "         0.00000000e+00,  0.00000000e+00,  0.00000000e+00,  0.00000000e+00,\n",
       "         0.00000000e+00,  0.00000000e+00,  0.00000000e+00,  0.00000000e+00,\n",
       "         0.00000000e+00,  0.00000000e+00,  0.00000000e+00,  0.00000000e+00,\n",
       "         0.00000000e+00,  0.00000000e+00,  0.00000000e+00,  0.00000000e+00,\n",
       "         0.00000000e+00,  0.00000000e+00,  0.00000000e+00,  0.00000000e+00,\n",
       "         0.00000000e+00,  0.00000000e+00,  0.00000000e+00,  0.00000000e+00,\n",
       "         0.00000000e+00,  0.00000000e+00,  0.00000000e+00,  0.00000000e+00,\n",
       "         0.00000000e+00,  0.00000000e+00,  0.00000000e+00,  0.00000000e+00,\n",
       "         0.00000000e+00,  0.00000000e+00,  0.00000000e+00,  0.00000000e+00,\n",
       "         0.00000000e+00,  0.00000000e+00,  0.00000000e+00,  0.00000000e+00,\n",
       "         0.00000000e+00,  0.00000000e+00,  0.00000000e+00,  0.00000000e+00,\n",
       "         0.00000000e+00,  0.00000000e+00,  0.00000000e+00,  0.00000000e+00,\n",
       "         0.00000000e+00,  0.00000000e+00,  0.00000000e+00,  0.00000000e+00,\n",
       "         0.00000000e+00,  0.00000000e+00,  0.00000000e+00,  0.00000000e+00,\n",
       "         0.00000000e+00,  0.00000000e+00,  0.00000000e+00,  0.00000000e+00,\n",
       "         0.00000000e+00,  0.00000000e+00,  0.00000000e+00,  0.00000000e+00,\n",
       "        -8.13256696e-05, -1.84334150e-05,  7.00566789e-03,  7.72733609e-02,\n",
       "         1.76799249e-01,  1.78042222e-01,  1.78193883e-01,  1.81415365e-01,\n",
       "         1.55837061e-01,  3.59281812e-02, -3.13829950e-03, -1.21272467e-04,\n",
       "         0.00000000e+00,  0.00000000e+00,  0.00000000e+00,  0.00000000e+00,\n",
       "         0.00000000e+00,  0.00000000e+00,  0.00000000e+00, -1.10600490e-03,\n",
       "        -1.14049570e-03,  1.33422352e-01,  2.70315359e-01, -7.63635263e-01,\n",
       "        -2.53213322e+00, -2.60161059e+00, -2.64793064e+00, -2.60578927e+00,\n",
       "        -2.13442582e+00, -2.63684828e-01,  6.70999704e-02, -2.22979643e-03,\n",
       "         0.00000000e+00,  0.00000000e+00,  0.00000000e+00,  0.00000000e+00,\n",
       "         0.00000000e+00,  0.00000000e+00, -1.21918747e-16,  3.09972426e-03,\n",
       "         1.31719024e-01, -7.74868975e-01, -3.63660362e+00, -8.14957287e+00,\n",
       "        -9.51042733e+00, -9.21225106e+00, -8.84382168e+00, -9.53645693e+00,\n",
       "        -9.15949489e+00, -4.26793725e+00,  5.32387846e-02,  3.59403084e-02,\n",
       "         0.00000000e+00,  0.00000000e+00,  0.00000000e+00,  0.00000000e+00,\n",
       "        -4.85089869e-05, -4.14590142e-03,  3.75734443e-02,  2.55110379e-01,\n",
       "        -9.57172634e-01, -6.09930124e+00, -9.79799960e+00, -8.08420183e+00,\n",
       "        -5.15966260e+00, -3.25469751e+00, -2.55472838e+00, -6.34955910e+00,\n",
       "        -9.61941102e+00, -8.58605819e+00, -9.92574956e-01,  1.58103724e-01,\n",
       "         0.00000000e+00,  0.00000000e+00,  0.00000000e+00,  0.00000000e+00,\n",
       "        -2.46881497e-04,  2.95076638e-02, -7.14833272e-02, -1.68662839e+00,\n",
       "        -7.53245614e+00, -9.17345178e+00, -4.40007775e+00, -6.57134646e-01,\n",
       "         3.45895500e-02,  3.91571384e-01,  4.76805623e-01, -1.48297762e+00,\n",
       "        -8.56674518e+00, -9.95109283e+00, -1.43502489e+00,  2.05242431e-01,\n",
       "         0.00000000e+00,  0.00000000e+00,  0.00000000e+00, -5.57661734e-04,\n",
       "         6.08884804e-03,  3.07139987e-01, -2.64293292e+00, -8.89884155e+00,\n",
       "        -9.91049083e+00, -5.68103056e+00,  3.41438589e-02,  2.05914182e-01,\n",
       "         4.56970827e-02, -5.85738453e-04,  1.17584652e-01, -1.47703608e+00,\n",
       "        -8.69124103e+00, -8.74381281e+00, -1.03715207e+00,  1.62505106e-01,\n",
       "         0.00000000e+00,  0.00000000e+00, -1.48437500e-03,  4.06337899e-03,\n",
       "         2.38893178e-01, -1.24005933e+00, -7.42581619e+00, -9.76947535e+00,\n",
       "        -7.19280721e+00, -2.70433835e+00, -4.62521872e-02,  3.02754289e-02,\n",
       "         0.00000000e+00, -7.94667971e-03,  3.52213567e-01, -4.30011957e+00,\n",
       "        -9.80211268e+00, -5.12076696e+00,  2.31555481e-02,  4.56275531e-02,\n",
       "         0.00000000e+00,  0.00000000e+00,  6.68453840e-03,  1.20899321e-01,\n",
       "        -1.53621316e+00, -7.40872114e+00, -9.84928702e+00, -7.64265880e+00,\n",
       "        -1.52557387e+00,  1.31264672e-01, -2.04135519e-02,  2.01991422e-03,\n",
       "        -1.94035948e-03,  6.51612246e-02, -4.10127315e-03, -6.84646900e+00,\n",
       "        -8.05729260e+00, -1.43814238e+00,  2.16984148e-01, -1.89023352e-03,\n",
       "         0.00000000e+00,  0.00000000e+00,  8.93390012e-02, -3.55794479e-01,\n",
       "        -6.59669655e+00, -9.77026022e+00, -9.65656631e+00, -8.36464005e+00,\n",
       "        -3.72517748e+00,  1.65416292e-01,  1.14093137e-03, -5.27454385e-04,\n",
       "         2.12711908e-02,  2.62264957e-01, -3.50213218e+00, -8.89590611e+00,\n",
       "        -4.36056387e+00,  4.03466708e-01, -1.11488780e-02, -1.79483252e-04,\n",
       "         0.00000000e+00,  0.00000000e+00,  1.83836353e-01, -1.23499804e+00,\n",
       "        -9.30830620e+00, -8.94769269e+00, -7.36390319e+00, -8.29950629e+00,\n",
       "        -2.02139432e+00,  1.63735681e-01,  0.00000000e+00, -1.04440555e-02,\n",
       "         2.48704063e-01, -1.16729235e+00, -7.89272029e+00, -6.90176685e+00,\n",
       "        -4.98219770e-01,  5.88023317e-02,  0.00000000e+00,  0.00000000e+00,\n",
       "         0.00000000e+00,  0.00000000e+00,  8.89735669e-02, -3.49932254e-01,\n",
       "        -6.64125334e+00, -9.52789040e+00, -5.75419181e+00, -3.10934263e+00,\n",
       "         3.05994286e-01,  4.58900352e-01,  4.12365681e-01,  5.46393587e-01,\n",
       "        -9.07890480e-01, -6.90186996e+00, -6.60598618e+00, -1.39758757e+00,\n",
       "         1.14046245e-01,  2.87658292e-03,  0.00000000e+00,  0.00000000e+00,\n",
       "         0.00000000e+00,  0.00000000e+00,  6.42744077e-03,  6.18844778e-02,\n",
       "        -1.11472391e+00, -4.00850990e+00, -9.43550391e+00, -8.37913275e+00,\n",
       "        -7.08470797e+00, -6.87680555e+00, -6.87174638e+00, -6.84019323e+00,\n",
       "        -8.03058711e+00, -7.90266752e+00, -6.54390276e-01,  2.63876762e-01,\n",
       "        -3.41179875e-03, -6.79125817e-04,  0.00000000e+00,  0.00000000e+00,\n",
       "         0.00000000e+00,  0.00000000e+00, -1.45526961e-03, -3.01485875e-03,\n",
       "         2.17708818e-01,  3.93682768e-02, -3.67686527e+00, -4.79354264e+00,\n",
       "        -7.36141582e+00, -9.40535573e+00, -9.57310046e+00, -9.58088680e+00,\n",
       "        -7.01009789e+00, -2.04682527e+00,  2.56143621e-01, -1.25880821e-02,\n",
       "         0.00000000e+00,  0.00000000e+00,  0.00000000e+00,  0.00000000e+00,\n",
       "         0.00000000e+00,  0.00000000e+00,  0.00000000e+00,  0.00000000e+00,\n",
       "        -2.24548100e-03,  2.14729882e-02,  2.39394761e-01,  3.55195415e-01,\n",
       "        -6.29015166e-01, -2.76577773e+00, -3.06902939e+00, -2.90947299e+00,\n",
       "        -8.32267395e-01,  2.38052821e-01, -2.25566789e-03,  0.00000000e+00,\n",
       "         0.00000000e+00,  0.00000000e+00,  0.00000000e+00,  0.00000000e+00,\n",
       "         0.00000000e+00,  0.00000000e+00,  0.00000000e+00,  0.00000000e+00,\n",
       "         0.00000000e+00,  0.00000000e+00, -5.89892255e-17, -6.38987404e-03,\n",
       "         1.07493840e-01,  3.36909013e-01,  3.68804166e-01,  3.52523542e-01,\n",
       "         1.26848681e-01, -9.41416483e-03, -4.64718112e-04,  0.00000000e+00,\n",
       "         0.00000000e+00,  0.00000000e+00,  0.00000000e+00,  0.00000000e+00,\n",
       "         0.00000000e+00,  0.00000000e+00,  0.00000000e+00,  0.00000000e+00,\n",
       "         0.00000000e+00,  0.00000000e+00,  0.00000000e+00,  0.00000000e+00,\n",
       "         0.00000000e+00,  0.00000000e+00,  0.00000000e+00,  0.00000000e+00,\n",
       "         0.00000000e+00,  0.00000000e+00,  0.00000000e+00,  0.00000000e+00,\n",
       "         0.00000000e+00,  0.00000000e+00,  0.00000000e+00,  0.00000000e+00,\n",
       "         0.00000000e+00,  0.00000000e+00,  0.00000000e+00,  0.00000000e+00,\n",
       "         0.00000000e+00,  0.00000000e+00,  0.00000000e+00,  0.00000000e+00,\n",
       "         0.00000000e+00,  0.00000000e+00,  0.00000000e+00,  0.00000000e+00,\n",
       "         0.00000000e+00,  0.00000000e+00,  0.00000000e+00,  0.00000000e+00,\n",
       "         0.00000000e+00,  0.00000000e+00,  0.00000000e+00,  0.00000000e+00,\n",
       "         0.00000000e+00]))"
      ]
     },
     "execution_count": 376,
     "metadata": {},
     "output_type": "execute_result"
    }
   ],
   "source": [
    "costGradientFunc(theta_array)"
   ]
  },
  {
   "cell_type": "markdown",
   "metadata": {},
   "source": []
  },
  {
   "cell_type": "markdown",
   "metadata": {},
   "source": [
    "Vectorizing regularized logistic regression"
   ]
  },
  {
   "cell_type": "markdown",
   "metadata": {},
   "source": [
    "Cost function: 1/m * sum(-Y * log(H_x) - (1 - Y) * log(1 - H_x)) + lambda/2m * sum(theta_j ^ 2) (J > 0)"
   ]
  },
  {
   "cell_type": "markdown",
   "metadata": {},
   "source": [
    "Gradient function:"
   ]
  },
  {
   "cell_type": "markdown",
   "metadata": {},
   "source": [
    "G_theta_0 = 1/m * sum(H_x - Y) * X_j,   for j = 0"
   ]
  },
  {
   "cell_type": "markdown",
   "metadata": {},
   "source": [
    "G_theta_j = 1/m * sum((H_x - Y) * X_j) + lambda/m * theta_j   for j >= 1"
   ]
  },
  {
   "cell_type": "code",
   "execution_count": null,
   "metadata": {},
   "outputs": [],
   "source": [
    "theta_array = np.zeros(len(X_matrix[0, 0]) + 1)\n",
    "\n",
    "def costGradientFunc(theta_array, lambda1):\n",
    "    theta_matrix = np.transpose(np.mat(theta_array))\n",
    "    m = len(X_matrix)\n",
    "    J_theta_row = 0\n",
    "    G_theta = np.zeros(np.shape(theta_matrix)[0])\n",
    "    \n",
    "    for i in range(0, m, 1):\n",
    "        X_matrix_row = np.mat((np.hstack((1, X_matrix[0, 0]))))\n",
    "        Y_matrix_row = (np.mat(Y_matrix[0, 0]))[0, 0]\n",
    "        H_x_row = (1 / (1 + np.exp(-X_matrix_row * theta_matrix)))[0, 0]\n",
    "        J_theta_row = J_theta_row + (-Y_matrix_row * np.log(H_x_row) - (1 - Y_matrix_row) * np.log(1 - H_x_row))\n",
    "        \n",
    "        for j in range(0, len(G_theta), 1):\n",
    "            G_theta[j] = G_theta[j] + (H_x_row - Y_matrix_row) * X_matrix_row[0, j]\n",
    "            \n",
    "    \n",
    "    J_theta = J_theta_row / m + lambda1/(2*m) * (sum(theta_array ** 2) - theta_array[0] ** 2) \n",
    "    \n",
    "    for j in range(1, len(G_theta), 1):\n",
    "        G_theta[j] = G_theta[j] + lambda1/m * (theta_array[j])\n",
    "        \n",
    "    \n",
    "    return J_theta"
   ]
  },
  {
   "cell_type": "markdown",
   "metadata": {},
   "source": []
  },
  {
   "cell_type": "markdown",
   "metadata": {},
   "source": []
  },
  {
   "cell_type": "markdown",
   "metadata": {},
   "source": [
    "# Neural Networks"
   ]
  },
  {
   "cell_type": "markdown",
   "metadata": {},
   "source": [
    "Logistic regression cannot form more complex hypotheses as it is only a linear classifier."
   ]
  },
  {
   "cell_type": "markdown",
   "metadata": {},
   "source": [
    "In this part, we will implement a neural network to recognize handwritten digits. The neural network will be able to represent complex models that form non-linear hypotheses."
   ]
  },
  {
   "cell_type": "code",
   "execution_count": 443,
   "metadata": {},
   "outputs": [
    {
     "data": {
      "text/plain": [
       "((25, 401), (10, 26))"
      ]
     },
     "execution_count": 443,
     "metadata": {},
     "output_type": "execute_result"
    }
   ],
   "source": [
    "data2 = mat.loadmat(\"E:\\\\Machine Learning\\\\1\\\\ex3weights.mat\")\n",
    "\n",
    "theta1_nn_matrix = np.mat(data2[\"Theta1\"])\n",
    "theta2_nn_matrix = np.mat(data2[\"Theta2\"])\n",
    "\n",
    "np.shape(theta1_nn_matrix), np.shape(theta2_nn_matrix)"
   ]
  },
  {
   "cell_type": "markdown",
   "metadata": {},
   "source": [
    "Feedforward Propagation and Prediction"
   ]
  },
  {
   "cell_type": "code",
   "execution_count": 448,
   "metadata": {},
   "outputs": [],
   "source": [
    "data1 = mat.loadmat(\"E:\\\\Machine Learning\\\\1\\\\ex3data1.mat\")"
   ]
  },
  {
   "cell_type": "code",
   "execution_count": 503,
   "metadata": {},
   "outputs": [
    {
     "data": {
      "text/plain": [
       "((5000, 1), (5000, 401))"
      ]
     },
     "execution_count": 503,
     "metadata": {},
     "output_type": "execute_result"
    }
   ],
   "source": [
    "one = np.transpose(np.mat(np.ones(len(data1[\"X\"]))))\n",
    "\n",
    "Y_nn_matrix = np.mat(data1[\"y\"])\n",
    "X_nn_matrix = np.hstack((one, np.mat(data1[\"X\"])))\n",
    "\n",
    "\n",
    "np.shape(Y_nn_matrix), np.shape(X_nn_matrix)"
   ]
  },
  {
   "cell_type": "code",
   "execution_count": 631,
   "metadata": {},
   "outputs": [],
   "source": [
    "def predict(theta1, theta2):\n",
    "    m = np.shape(X_nn_matrix)[0]\n",
    "    num_labels = np.shape(theta2)[0]\n",
    "    \n",
    "    p = np.zeros(m)\n",
    "    \n",
    "    H_x_layer2 = 1 / (1 + np.exp(-X_nn_matrix * np.transpose(theta1)))\n",
    "    \n",
    "    one = np.transpose(np.mat(np.ones(m)))\n",
    "    input_layer2 = np.hstack((one, H_x_layer2))\n",
    "    \n",
    "    H_x_layer3 = 1 / (1 + np.exp(-input_layer2 * np.transpose(theta2)))\n",
    "    \n",
    "    \n",
    "    for i in range(0, m, 1):\n",
    "        list1 = []\n",
    "        \n",
    "        for j in range(0, num_labels, 1):\n",
    "            list1.append(H_x_layer3[i, j])\n",
    "    \n",
    "        p[i] = int(list1.index(max(list1)) + 1)\n",
    "        \n",
    "    \n",
    "    return p"
   ]
  },
  {
   "cell_type": "code",
   "execution_count": 632,
   "metadata": {},
   "outputs": [
    {
     "data": {
      "text/plain": [
       "1.0     507\n",
       "5.0     506\n",
       "10.0    505\n",
       "6.0     504\n",
       "8.0     502\n",
       "4.0     499\n",
       "7.0     496\n",
       "9.0     496\n",
       "2.0     494\n",
       "3.0     491\n",
       "dtype: int64"
      ]
     },
     "execution_count": 632,
     "metadata": {},
     "output_type": "execute_result"
    }
   ],
   "source": [
    "pd.Series(predict(theta1_nn_matrix, theta2_nn_matrix)).value_counts()"
   ]
  }
 ],
 "metadata": {
  "kernelspec": {
   "display_name": "Python 2",
   "language": "python",
   "name": "python2"
  },
  "language_info": {
   "codemirror_mode": {
    "name": "ipython",
    "version": 2
   },
   "file_extension": ".py",
   "mimetype": "text/x-python",
   "name": "python",
   "nbconvert_exporter": "python",
   "pygments_lexer": "ipython2",
   "version": "2.7.14"
  }
 },
 "nbformat": 4,
 "nbformat_minor": 2
}
