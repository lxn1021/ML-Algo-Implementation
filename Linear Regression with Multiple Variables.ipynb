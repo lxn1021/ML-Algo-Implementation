{
 "cells": [
  {
   "cell_type": "markdown",
   "metadata": {},
   "source": [
    "# Linear Regression with Multiple Variables"
   ]
  },
  {
   "cell_type": "code",
   "execution_count": 8,
   "metadata": {},
   "outputs": [],
   "source": [
    "import pandas as pd\n",
    "import numpy as np"
   ]
  },
  {
   "cell_type": "code",
   "execution_count": 4,
   "metadata": {},
   "outputs": [
    {
     "data": {
      "text/html": [
       "<div>\n",
       "<style scoped>\n",
       "    .dataframe tbody tr th:only-of-type {\n",
       "        vertical-align: middle;\n",
       "    }\n",
       "\n",
       "    .dataframe tbody tr th {\n",
       "        vertical-align: top;\n",
       "    }\n",
       "\n",
       "    .dataframe thead th {\n",
       "        text-align: right;\n",
       "    }\n",
       "</style>\n",
       "<table border=\"1\" class=\"dataframe\">\n",
       "  <thead>\n",
       "    <tr style=\"text-align: right;\">\n",
       "      <th></th>\n",
       "      <th>X1</th>\n",
       "      <th>X2</th>\n",
       "      <th>Y</th>\n",
       "    </tr>\n",
       "  </thead>\n",
       "  <tbody>\n",
       "    <tr>\n",
       "      <th>0</th>\n",
       "      <td>2104</td>\n",
       "      <td>3</td>\n",
       "      <td>399900</td>\n",
       "    </tr>\n",
       "    <tr>\n",
       "      <th>1</th>\n",
       "      <td>1600</td>\n",
       "      <td>3</td>\n",
       "      <td>329900</td>\n",
       "    </tr>\n",
       "    <tr>\n",
       "      <th>2</th>\n",
       "      <td>2400</td>\n",
       "      <td>3</td>\n",
       "      <td>369000</td>\n",
       "    </tr>\n",
       "    <tr>\n",
       "      <th>3</th>\n",
       "      <td>1416</td>\n",
       "      <td>2</td>\n",
       "      <td>232000</td>\n",
       "    </tr>\n",
       "    <tr>\n",
       "      <th>4</th>\n",
       "      <td>3000</td>\n",
       "      <td>4</td>\n",
       "      <td>539900</td>\n",
       "    </tr>\n",
       "  </tbody>\n",
       "</table>\n",
       "</div>"
      ],
      "text/plain": [
       "     X1  X2       Y\n",
       "0  2104   3  399900\n",
       "1  1600   3  329900\n",
       "2  2400   3  369000\n",
       "3  1416   2  232000\n",
       "4  3000   4  539900"
      ]
     },
     "execution_count": 4,
     "metadata": {},
     "output_type": "execute_result"
    }
   ],
   "source": [
    "data1 = pd.read_csv(\"E:\\\\Machine Learning\\\\1\\\\ex1data2.csv\")\n",
    "data1.head()"
   ]
  },
  {
   "cell_type": "markdown",
   "metadata": {},
   "source": [
    "Data above contains a training set of housing prices in Portand, Oregon. The first column is the size of the house (in square feet), the second column is the number of bedrooms, and the third column is the price of the house."
   ]
  },
  {
   "cell_type": "markdown",
   "metadata": {},
   "source": []
  },
  {
   "cell_type": "markdown",
   "metadata": {},
   "source": [
    "Feature Normalization"
   ]
  },
  {
   "cell_type": "markdown",
   "metadata": {},
   "source": [
    "When features differ by orders of magnitude, first performing feature scaling can make gradient descent converge much more quickly."
   ]
  },
  {
   "cell_type": "code",
   "execution_count": 16,
   "metadata": {},
   "outputs": [
    {
     "data": {
      "text/html": [
       "<div>\n",
       "<style scoped>\n",
       "    .dataframe tbody tr th:only-of-type {\n",
       "        vertical-align: middle;\n",
       "    }\n",
       "\n",
       "    .dataframe tbody tr th {\n",
       "        vertical-align: top;\n",
       "    }\n",
       "\n",
       "    .dataframe thead th {\n",
       "        text-align: right;\n",
       "    }\n",
       "</style>\n",
       "<table border=\"1\" class=\"dataframe\">\n",
       "  <thead>\n",
       "    <tr style=\"text-align: right;\">\n",
       "      <th></th>\n",
       "      <th>X1</th>\n",
       "      <th>X2</th>\n",
       "      <th>Y</th>\n",
       "    </tr>\n",
       "  </thead>\n",
       "  <tbody>\n",
       "    <tr>\n",
       "      <th>0</th>\n",
       "      <td>0.131415</td>\n",
       "      <td>-0.226093</td>\n",
       "      <td>399900</td>\n",
       "    </tr>\n",
       "    <tr>\n",
       "      <th>1</th>\n",
       "      <td>-0.509641</td>\n",
       "      <td>-0.226093</td>\n",
       "      <td>329900</td>\n",
       "    </tr>\n",
       "    <tr>\n",
       "      <th>2</th>\n",
       "      <td>0.507909</td>\n",
       "      <td>-0.226093</td>\n",
       "      <td>369000</td>\n",
       "    </tr>\n",
       "    <tr>\n",
       "      <th>3</th>\n",
       "      <td>-0.743677</td>\n",
       "      <td>-1.554392</td>\n",
       "      <td>232000</td>\n",
       "    </tr>\n",
       "    <tr>\n",
       "      <th>4</th>\n",
       "      <td>1.271071</td>\n",
       "      <td>1.102205</td>\n",
       "      <td>539900</td>\n",
       "    </tr>\n",
       "  </tbody>\n",
       "</table>\n",
       "</div>"
      ],
      "text/plain": [
       "         X1        X2       Y\n",
       "0  0.131415 -0.226093  399900\n",
       "1 -0.509641 -0.226093  329900\n",
       "2  0.507909 -0.226093  369000\n",
       "3 -0.743677 -1.554392  232000\n",
       "4  1.271071  1.102205  539900"
      ]
     },
     "execution_count": 16,
     "metadata": {},
     "output_type": "execute_result"
    }
   ],
   "source": [
    "X1 = data1[\"X1\"]\n",
    "X2 = data1[\"X2\"]\n",
    "\n",
    "X1 = (X1 - np.mean(X1)) / np.std(X1)\n",
    "X2 = (X2 - np.mean(X2)) / np.std(X2)\n",
    "\n",
    "data2 = pd.DataFrame({\"X1\": X1, \"X2\": X2, \"Y\": data1[\"Y\"]})\n",
    "data2.head()"
   ]
  },
  {
   "cell_type": "markdown",
   "metadata": {},
   "source": []
  },
  {
   "cell_type": "markdown",
   "metadata": {},
   "source": [
    "Gradient Descent"
   ]
  },
  {
   "cell_type": "markdown",
   "metadata": {},
   "source": [
    "Hypothesis: H_x = theta0 * X0 + theta1 * X1 + theta2 * X2 + ... + thetan * Xn (X0 = 1) = X_matrix(size: m * (n + 1)) * theta_matrix (size: (n + 1) * 1) = Predicted Value (size: m * 1) --- Only one predicted value for each training set"
   ]
  },
  {
   "cell_type": "markdown",
   "metadata": {},
   "source": [
    "Cost function: J_theta = 1/(2m) * sum((H_x - Y)^2)"
   ]
  },
  {
   "cell_type": "markdown",
   "metadata": {},
   "source": [
    "Gradient descent: \n",
    "\n",
    "theta0 := theta0 - alpha * (1/m) * sum(H_x - Y)\n",
    "theta1 := theta1 - alpha * (1/m) * sum((H_x - Y) * X1)\n",
    "theta2 := theta2 - alpha * (1/m) * sum((H_x - Y) * X2)"
   ]
  },
  {
   "cell_type": "markdown",
   "metadata": {},
   "source": [
    "Initialization: \n",
    "\n",
    "theta0 = 0, theta1 = 0, theta2 = 0\n",
    "alpha = 0.01\n",
    "iterations = 400"
   ]
  },
  {
   "cell_type": "code",
   "execution_count": 78,
   "metadata": {},
   "outputs": [],
   "source": [
    "theta0 = 0\n",
    "theta1 = 0\n",
    "theta2 = 0\n",
    "\n",
    "X_matrix = np.transpose(np.mat(np.vstack((np.ones(len(X1)), np.array(X1), np.array(X2)))))\n",
    "theta_matrix = np.transpose(np.mat(np.array((theta0, theta1, theta2))))\n",
    "Y_matrix = np.transpose(np.mat(np.array(data1[\"Y\"])))\n",
    "m = len(X_matrix)\n",
    "\n",
    "H_x = X_matrix * theta_matrix\n",
    "J_theta = sum(np.power(H_x - Y_matrix, 2)) / (2*m)"
   ]
  },
  {
   "cell_type": "code",
   "execution_count": 79,
   "metadata": {},
   "outputs": [
    {
     "data": {
      "text/plain": [
       "matrix([[6.55915481e+10]])"
      ]
     },
     "execution_count": 79,
     "metadata": {},
     "output_type": "execute_result"
    }
   ],
   "source": [
    "J_theta"
   ]
  },
  {
   "cell_type": "code",
   "execution_count": 121,
   "metadata": {},
   "outputs": [],
   "source": [
    "def gradientDesc(theta0, theta1, theta2, iterations, alpha):\n",
    "    theta0_list = []\n",
    "    theta1_list = []\n",
    "    theta2_list = []\n",
    "    J_list = []\n",
    "    \n",
    "    for i in range(0, iterations, 1):\n",
    "        theta0_list.append(theta0)\n",
    "        theta1_list.append(theta1)\n",
    "        theta2_list.append(theta2)\n",
    "        \n",
    "        X_matrix = np.transpose(np.mat(np.vstack((np.ones(len(X1)), np.array(X1), np.array(X2)))))\n",
    "        theta_matrix = np.transpose(np.mat(np.array((theta0, theta1, theta2))))\n",
    "        Y_matrix = np.transpose(np.mat(np.array(data1[\"Y\"])))\n",
    "        m = len(X_matrix)\n",
    "    \n",
    "        H_x = X_matrix * theta_matrix\n",
    "        J_theta = (sum(np.power(H_x - Y_matrix, 2)) / (2*m))[0, 0]\n",
    "        J_list.append(J_theta)\n",
    "        \n",
    "        theta0 = (theta0 - alpha/m * sum(H_x - Y_matrix))[0, 0]\n",
    "        theta1 = (theta1 - alpha/m * sum(np.multiply(H_x - Y_matrix, X_matrix[:, 1])))[0, 0]\n",
    "        theta2 = (theta2 - alpha/m * sum(np.multiply(H_x - Y_matrix, X_matrix[:, 2])))[0, 0]\n",
    "        \n",
    "        theta0_final = theta0_list[len(theta0_list) - 1]\n",
    "        theta1_final = theta1_list[len(theta1_list) - 1]\n",
    "        theta2_final = theta2_list[len(theta2_list) - 1]\n",
    "        J_final = J_list[len(J_list) - 1]\n",
    "    \n",
    "    \n",
    "    return theta0_final, theta1_final, theta2_final, J_final, J_list"
   ]
  },
  {
   "cell_type": "code",
   "execution_count": 120,
   "metadata": {
    "scrolled": true
   },
   "outputs": [
    {
     "name": "stdout",
     "output_type": "stream",
     "text": [
      "theta0:  334240.3408055882 \n",
      "theta1:  99365.99989389487 \n",
      "theta2:  3309.436008257655 \n",
      "cost J:  2106213044.760492\n"
     ]
    }
   ],
   "source": [
    "print \"theta0: \", gradientDesc(0, 0, 0, 400, 0.01)[0], \"\\n\", \"theta1: \", gradientDesc(0, 0, 0, 400, 0.01)[1], \"\\n\", \"theta2: \", gradientDesc(0, 0, 0, 400, 0.01)[2], \"\\n\", \"cost J: \", gradientDesc(0, 0, 0, 400, 0.01)[3] "
   ]
  },
  {
   "cell_type": "markdown",
   "metadata": {},
   "source": [
    "Visualize Cost J"
   ]
  },
  {
   "cell_type": "code",
   "execution_count": 139,
   "metadata": {},
   "outputs": [],
   "source": [
    "import matplotlib.pyplot as plt"
   ]
  },
  {
   "cell_type": "code",
   "execution_count": 134,
   "metadata": {},
   "outputs": [],
   "source": [
    "iterations_list = list(np.arange(1, len(J_list) + 1, 1))\n",
    "J_list = gradientDesc(0, 0, 0, 400, 0.01)[4]\n",
    "\n",
    "J_df = pd.DataFrame({\"Iterations\": iterations_list, \"J\": J_list})"
   ]
  },
  {
   "cell_type": "code",
   "execution_count": 145,
   "metadata": {},
   "outputs": [
    {
     "data": {
      "text/plain": [
       "<matplotlib.legend.Legend at 0xc3fd450>"
      ]
     },
     "execution_count": 145,
     "metadata": {},
     "output_type": "execute_result"
    },
    {
     "data": {
      "image/png": "[encoded data removed]",
      "text/plain": [
       "<matplotlib.figure.Figure at 0xc3876f0>"
      ]
     },
     "metadata": {
      "needs_background": "light"
     },
     "output_type": "display_data"
    }
   ],
   "source": [
    "plt.figure(num = 1, figsize = (6, 6))\n",
    "plt.plot(J_df[\"Iterations\"], J_df[\"J\"], color = \"green\")\n",
    "plt.xlabel(\"Number of Iterations\")\n",
    "plt.ylabel(\"Cost J\")\n",
    "plt.legend()"
   ]
  },
  {
   "cell_type": "markdown",
   "metadata": {},
   "source": []
  },
  {
   "cell_type": "markdown",
   "metadata": {},
   "source": [
    "Selecting Learning Rates"
   ]
  },
  {
   "cell_type": "markdown",
   "metadata": {},
   "source": [
    "In this part, we will get to try out different learning rates for the dataset and find a learning rate that converges quickly."
   ]
  },
  {
   "cell_type": "code",
   "execution_count": 158,
   "metadata": {},
   "outputs": [],
   "source": [
    "def learningRate(nums_rate, learningRate, delta):\n",
    "    plt.figure(num = nums_rate, figsize = (6, 6))\n",
    "    colors = [\"green\", \"brown\", \"blue\", \"purple\", \"red\", \"black\", \"yellow\"]\n",
    "    labels = []\n",
    "    \n",
    "    for i in range(0, nums_rate, 1):\n",
    "        J_list = gradientDesc(0, 0, 0, 400, learningRate)[4]\n",
    "        iterations_list = list(np.arange(1, len(J_list) + 1, 1))\n",
    "        J_df = pd.DataFrame({\"Iterations\": iterations_list, \"J\": J_list})\n",
    "        \n",
    "        plt.plot(J_df[\"Iterations\"], J_df[\"J\"], color = colors[i])\n",
    "        labels.append(learningRate)\n",
    "        \n",
    "        learningRate = learningRate * delta\n",
    "    \n",
    "    \n",
    "    plt.xlabel(\"Number of Iterations\")\n",
    "    plt.ylabel(\"Cost J\")\n",
    "    plt.legend(labels = labels)"
   ]
  },
  {
   "cell_type": "code",
   "execution_count": 160,
   "metadata": {},
   "outputs": [
    {
     "data": {
      "image/png": "[encoded data removed]",
      "text/plain": [
       "<matplotlib.figure.Figure at 0xc6a7630>"
      ]
     },
     "metadata": {
      "needs_background": "light"
     },
     "output_type": "display_data"
    }
   ],
   "source": [
    "learningRate(5, 0.01, 3)"
   ]
  },
  {
   "cell_type": "markdown",
   "metadata": {},
   "source": []
  },
  {
   "cell_type": "markdown",
   "metadata": {},
   "source": [
    "Normal Equations"
   ]
  },
  {
   "cell_type": "markdown",
   "metadata": {},
   "source": [
    "Formula: theta = inv((transpose(X) * X)) * transpose(X) * Y"
   ]
  },
  {
   "cell_type": "markdown",
   "metadata": {},
   "source": [
    "Using this formula does not require any feature scaling."
   ]
  },
  {
   "cell_type": "code",
   "execution_count": 180,
   "metadata": {},
   "outputs": [],
   "source": [
    "Y_matrix = np.transpose(np.mat(data1[\"Y\"]))\n",
    "X_transpose = np.transpose(X_matrix)\n",
    "theta_matrix = (X_transpose * X_matrix).I * X_transpose * Y_matrix"
   ]
  },
  {
   "cell_type": "code",
   "execution_count": 181,
   "metadata": {},
   "outputs": [
    {
     "data": {
      "text/plain": [
       "matrix([[340412.65957447],\n",
       "        [109447.79646964],\n",
       "        [ -6578.35485416]])"
      ]
     },
     "execution_count": 181,
     "metadata": {},
     "output_type": "execute_result"
    }
   ],
   "source": [
    "theta_matrix"
   ]
  }
 ],
 "metadata": {
  "kernelspec": {
   "display_name": "Python 2",
   "language": "python",
   "name": "python2"
  },
  "language_info": {
   "codemirror_mode": {
    "name": "ipython",
    "version": 2
   },
   "file_extension": ".py",
   "mimetype": "text/x-python",
   "name": "python",
   "nbconvert_exporter": "python",
   "pygments_lexer": "ipython2",
   "version": "2.7.14"
  }
 },
 "nbformat": 4,
 "nbformat_minor": 2
}
