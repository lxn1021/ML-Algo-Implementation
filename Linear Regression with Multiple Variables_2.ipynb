{
 "cells": [
  {
   "cell_type": "markdown",
   "metadata": {},
   "source": [
    "# Linear Regression with Multiple Variables"
   ]
  },
  {
   "cell_type": "code",
   "execution_count": 20,
   "metadata": {},
   "outputs": [],
   "source": [
    "import pandas as pd\n",
    "import numpy as np\n",
    "from __future__ import division\n",
    "import matplotlib.pyplot as plt"
   ]
  },
  {
   "cell_type": "code",
   "execution_count": 2,
   "metadata": {},
   "outputs": [
    {
     "data": {
      "text/html": [
       "<div>\n",
       "<style scoped>\n",
       "    .dataframe tbody tr th:only-of-type {\n",
       "        vertical-align: middle;\n",
       "    }\n",
       "\n",
       "    .dataframe tbody tr th {\n",
       "        vertical-align: top;\n",
       "    }\n",
       "\n",
       "    .dataframe thead th {\n",
       "        text-align: right;\n",
       "    }\n",
       "</style>\n",
       "<table border=\"1\" class=\"dataframe\">\n",
       "  <thead>\n",
       "    <tr style=\"text-align: right;\">\n",
       "      <th></th>\n",
       "      <th>X1</th>\n",
       "      <th>X2</th>\n",
       "      <th>Y</th>\n",
       "    </tr>\n",
       "  </thead>\n",
       "  <tbody>\n",
       "    <tr>\n",
       "      <th>0</th>\n",
       "      <td>2104</td>\n",
       "      <td>3</td>\n",
       "      <td>399900</td>\n",
       "    </tr>\n",
       "    <tr>\n",
       "      <th>1</th>\n",
       "      <td>1600</td>\n",
       "      <td>3</td>\n",
       "      <td>329900</td>\n",
       "    </tr>\n",
       "    <tr>\n",
       "      <th>2</th>\n",
       "      <td>2400</td>\n",
       "      <td>3</td>\n",
       "      <td>369000</td>\n",
       "    </tr>\n",
       "    <tr>\n",
       "      <th>3</th>\n",
       "      <td>1416</td>\n",
       "      <td>2</td>\n",
       "      <td>232000</td>\n",
       "    </tr>\n",
       "    <tr>\n",
       "      <th>4</th>\n",
       "      <td>3000</td>\n",
       "      <td>4</td>\n",
       "      <td>539900</td>\n",
       "    </tr>\n",
       "  </tbody>\n",
       "</table>\n",
       "</div>"
      ],
      "text/plain": [
       "     X1  X2       Y\n",
       "0  2104   3  399900\n",
       "1  1600   3  329900\n",
       "2  2400   3  369000\n",
       "3  1416   2  232000\n",
       "4  3000   4  539900"
      ]
     },
     "execution_count": 2,
     "metadata": {},
     "output_type": "execute_result"
    }
   ],
   "source": [
    "data1 = pd.read_csv(\"E:\\\\Machine Learning\\\\1\\\\ex1data2.csv\")\n",
    "data1.head()"
   ]
  },
  {
   "cell_type": "code",
   "execution_count": 39,
   "metadata": {},
   "outputs": [],
   "source": [
    "X1 = np.transpose(np.mat(data1[\"X1\"]))\n",
    "X2 = np.transpose(np.mat(data1[\"X2\"]))\n",
    "X_mat = np.hstack((X1, X2))\n",
    "Y_mat = np.transpose(np.mat(data1[\"Y\"]))\n",
    "m = len(Y_mat)\n"
   ]
  },
  {
   "cell_type": "code",
   "execution_count": 40,
   "metadata": {},
   "outputs": [],
   "source": [
    "def featureNormalize(X):\n",
    "    mu = np.mat(np.zeros(np.shape(X)[1]))\n",
    "    sigma = np.mat(np.zeros(np.shape(X)[1]))\n",
    "    n = np.shape(mu)[1]\n",
    "    X_norm = np.mat(np.zeros((m, n)))\n",
    "    \n",
    "    for j in range(0, n, 1):\n",
    "        X_norm[:, j] = (X[:, j] - np.mean(X[:, j])) / np.std(X[:, j])\n",
    "    \n",
    "    \n",
    "    return X_norm"
   ]
  },
  {
   "cell_type": "code",
   "execution_count": 50,
   "metadata": {},
   "outputs": [],
   "source": [
    "X_norm = featureNormalize(X_mat)\n",
    "\n",
    "ones = np.transpose(np.mat(np.ones(m)))\n",
    "X_norm_ones = np.hstack((ones, X_norm))"
   ]
  },
  {
   "cell_type": "markdown",
   "metadata": {},
   "source": []
  },
  {
   "cell_type": "code",
   "execution_count": 51,
   "metadata": {},
   "outputs": [],
   "source": [
    "def costFunctionMulti(X, Y, theta):\n",
    "    Y_predict = X * theta\n",
    "    cost = 1/(2*m) * sum(np.power(Y_predict - Y, 2))\n",
    "    \n",
    "    return cost[0, 0]"
   ]
  },
  {
   "cell_type": "code",
   "execution_count": 75,
   "metadata": {},
   "outputs": [],
   "source": [
    "def gradientDescMulti(X, Y, theta, alpha, iterations):\n",
    "    Y_predict = X * theta\n",
    "    J = 1/(2*m) * sum(np.power(Y_predict - Y, 2))\n",
    "    G_theta = np.zeros((len(theta), 1))\n",
    "    \n",
    "    theta_list = [theta]\n",
    "    J_list = [J[0, 0]]\n",
    "    \n",
    "    while len(J_list) < iterations:\n",
    "        for j in range(0, len(G_theta), 1):\n",
    "            G_theta[j, :] = 1/m * sum(np.multiply(Y_predict - Y, X[:, j]))\n",
    "        \n",
    "        theta = theta - alpha * G_theta\n",
    "        theta_list.append(theta)\n",
    "        Y_predict = X * theta\n",
    "        J = 1/(2*m) * sum(np.power(Y_predict - Y, 2))\n",
    "        J_list.append(J[0, 0])\n",
    "    \n",
    "    \n",
    "    return theta, theta_list, J_list"
   ]
  },
  {
   "cell_type": "code",
   "execution_count": 77,
   "metadata": {},
   "outputs": [],
   "source": [
    "theta = np.transpose(np.mat([0, 0, 0]))\n",
    "\n",
    "theta_optimum = gradientDescMulti(X_norm_ones, Y_mat, theta, 0.01, 400)[0]\n",
    "theta_list = gradientDescMulti(X_norm_ones, Y_mat, theta, 0.01, 400)[1]\n",
    "J_list = gradientDescMulti(X_norm_ones, Y_mat, theta, 0.01, 400)[2]"
   ]
  },
  {
   "cell_type": "code",
   "execution_count": 78,
   "metadata": {},
   "outputs": [
    {
     "data": {
      "text/plain": [
       "[<matplotlib.lines.Line2D at 0xc906cf0>]"
      ]
     },
     "execution_count": 78,
     "metadata": {},
     "output_type": "execute_result"
    },
    {
     "data": {
      "image/png": "[encoded data removed]",
      "text/plain": [
       "<matplotlib.figure.Figure at 0xc926db0>"
      ]
     },
     "metadata": {
      "needs_background": "light"
     },
     "output_type": "display_data"
    }
   ],
   "source": [
    "plt.figure(num = 1, figsize = (8, 6))\n",
    "\n",
    "x_plot = np.arange(0, 400, 1)\n",
    "y_plot = np.array(J_list)\n",
    "\n",
    "plt.plot(x_plot, y_plot)"
   ]
  },
  {
   "cell_type": "markdown",
   "metadata": {},
   "source": []
  }
 ],
 "metadata": {
  "kernelspec": {
   "display_name": "Python 2",
   "language": "python",
   "name": "python2"
  },
  "language_info": {
   "codemirror_mode": {
    "name": "ipython",
    "version": 2
   },
   "file_extension": ".py",
   "mimetype": "text/x-python",
   "name": "python",
   "nbconvert_exporter": "python",
   "pygments_lexer": "ipython2",
   "version": "2.7.14"
  }
 },
 "nbformat": 4,
 "nbformat_minor": 2
}
