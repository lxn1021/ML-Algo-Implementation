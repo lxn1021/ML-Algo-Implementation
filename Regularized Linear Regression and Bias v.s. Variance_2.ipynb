{
 "cells": [
  {
   "cell_type": "markdown",
   "metadata": {},
   "source": [
    "# Regularized Linear Regression and Bias v.s. Variance"
   ]
  },
  {
   "cell_type": "markdown",
   "metadata": {},
   "source": [
    "In this part, we will implement regularized linear regression and use it to study models with different bias-variance properties. "
   ]
  },
  {
   "cell_type": "markdown",
   "metadata": {},
   "source": [
    "# 1. Regularized Linear Regression"
   ]
  },
  {
   "cell_type": "markdown",
   "metadata": {},
   "source": [
    "In the first half of this part, we will implement regularized linear regression to predict the amount of water flowing out of a dam using the change of water level in a reservoir. In the next half, we will go through some diagnostics of debugging learning algorithms and examine the effects of bias v.s. variance."
   ]
  },
  {
   "cell_type": "code",
   "execution_count": 1,
   "metadata": {},
   "outputs": [],
   "source": [
    "import mat4py as mat\n",
    "import numpy as np\n",
    "import matplotlib.pyplot as plt\n",
    "from __future__ import division\n",
    "from scipy.optimize import fmin_bfgs, fmin_cg"
   ]
  },
  {
   "cell_type": "code",
   "execution_count": 2,
   "metadata": {},
   "outputs": [],
   "source": [
    "data1 = mat.loadmat(\"E:\\\\Machine Learning\\\\1\\\\ex5data1.mat\")"
   ]
  },
  {
   "cell_type": "code",
   "execution_count": 3,
   "metadata": {},
   "outputs": [],
   "source": [
    "X = data1[\"X\"]\n",
    "y = data1[\"y\"]\n",
    "Xval = data1[\"Xval\"]\n",
    "yval = data1[\"yval\"]\n",
    "Xtest = data1[\"Xtest\"]\n",
    "ytest = data1[\"ytest\"]\n",
    "\n",
    "m = len(X)"
   ]
  },
  {
   "cell_type": "code",
   "execution_count": 4,
   "metadata": {},
   "outputs": [
    {
     "data": {
      "text/plain": [
       "Text(0,0.5,u'Water flowing out of the dam(y)')"
      ]
     },
     "execution_count": 4,
     "metadata": {},
     "output_type": "execute_result"
    },
    {
     "data": {
      "image/png": "[encoded data removed]",
      "text/plain": [
       "<matplotlib.figure.Figure at 0xa3f4e50>"
      ]
     },
     "metadata": {
      "needs_background": "light"
     },
     "output_type": "display_data"
    }
   ],
   "source": [
    "plt.figure(num = 1, figsize = (6, 6))\n",
    "plt.scatter(X, y, marker = \"x\", color = \"red\")\n",
    "plt.xlim((-50, 40))\n",
    "plt.ylim((0, 40))\n",
    "plt.xlabel(\"Change in water level(x)\")\n",
    "plt.ylabel(\"Water flowing out of the dam(y)\")"
   ]
  },
  {
   "cell_type": "markdown",
   "metadata": {},
   "source": [
    "Regularized linear regression cost function"
   ]
  },
  {
   "cell_type": "code",
   "execution_count": 5,
   "metadata": {},
   "outputs": [
    {
     "data": {
      "text/plain": [
       "(12, 1)"
      ]
     },
     "execution_count": 5,
     "metadata": {},
     "output_type": "execute_result"
    }
   ],
   "source": [
    "theta = np.array((1, 1))\n",
    "\n",
    "np.shape(np.mat(X))"
   ]
  },
  {
   "cell_type": "code",
   "execution_count": 6,
   "metadata": {},
   "outputs": [],
   "source": [
    "def costFunctionReg(X, y, theta, lambda1):\n",
    "    one = np.transpose(np.mat(np.ones(len(X))))\n",
    "    X_mat = np.hstack((one, X))\n",
    "    theta_mat = np.transpose(np.mat(theta))\n",
    "    H_x = X_mat * theta_mat\n",
    "    y_mat = np.mat(y)\n",
    "    \n",
    "    J_theta = 1/(2*m) * sum(np.power(H_x - y_mat, 2)) + lambda1/(2*m) * sum(np.power(theta_mat, 2))\n",
    "    \n",
    "    \n",
    "    return J_theta[0, 0]"
   ]
  },
  {
   "cell_type": "code",
   "execution_count": 7,
   "metadata": {},
   "outputs": [
    {
     "data": {
      "text/plain": [
       "303.9515255535976"
      ]
     },
     "execution_count": 7,
     "metadata": {},
     "output_type": "execute_result"
    }
   ],
   "source": [
    "costFunctionReg(X, y, theta, 0)"
   ]
  },
  {
   "cell_type": "markdown",
   "metadata": {},
   "source": [
    "Regularized linear regression gradient"
   ]
  },
  {
   "cell_type": "code",
   "execution_count": 8,
   "metadata": {},
   "outputs": [],
   "source": [
    "lambda1 = 0\n",
    "X_train = X\n",
    "y_train = y\n",
    "\n",
    "def costFunctionReg(theta):\n",
    "    one = np.transpose(np.mat(np.ones(len(X_train))))\n",
    "    X_train_mat = np.hstack((one, X_train))\n",
    "    theta_mat = np.transpose(np.mat(theta))\n",
    "    H_x = X_train_mat * theta_mat\n",
    "    y_train_mat = np.mat(y_train)\n",
    "    \n",
    "    J_theta = 1/(2*m) * sum(np.power(H_x - y_train_mat, 2)) + lambda1/(2*m) * sum(np.power(theta_mat, 2))\n",
    "    \n",
    "    G_theta = np.zeros(len(theta_mat))\n",
    "    \n",
    "    G_theta0 = 1/m * sum(H_x - y_train_mat)\n",
    "    G_theta1 = 1/m * sum(np.multiply(H_x - y_train_mat, X_train_mat[:, 1])) + lambda1/m * theta_mat[1, :] \n",
    "    \n",
    "    G_theta[0] = G_theta0\n",
    "    G_theta[1] = G_theta1\n",
    "  \n",
    "    \n",
    "    return J_theta[0, 0]"
   ]
  },
  {
   "cell_type": "code",
   "execution_count": 9,
   "metadata": {},
   "outputs": [
    {
     "data": {
      "text/plain": [
       "303.9515255535976"
      ]
     },
     "execution_count": 9,
     "metadata": {},
     "output_type": "execute_result"
    }
   ],
   "source": [
    "costFunctionReg(theta)"
   ]
  },
  {
   "cell_type": "markdown",
   "metadata": {},
   "source": [
    "Fitting linear regression"
   ]
  },
  {
   "cell_type": "code",
   "execution_count": 10,
   "metadata": {},
   "outputs": [],
   "source": [
    "lambda1 = 0\n",
    "X_train = X\n",
    "y_train = y\n",
    "\n",
    "def gradientDesc(theta):\n",
    "    one = np.transpose(np.mat(np.ones(len(X_train))))\n",
    "    X_train_mat = np.hstack((one, X_train))\n",
    "    theta_mat = np.transpose(np.mat(theta))\n",
    "    H_x = X_train_mat * theta_mat\n",
    "    y_train_mat = np.mat(y_train)\n",
    "    \n",
    "    J_theta = 1/(2*m) * sum(np.power(H_x - y_train_mat, 2)) + lambda1/(2*m) * sum(np.power(theta_mat, 2))\n",
    "    \n",
    "    G_theta = np.zeros(len(theta_mat))\n",
    "    \n",
    "    G_theta0 = 1/m * sum(H_x - y_train_mat)\n",
    "    G_theta1 = 1/m * sum(np.multiply(H_x - y_train_mat, X_train_mat[:, 1])) + lambda1/m * theta_mat[1, :] \n",
    "    \n",
    "    G_theta[0] = G_theta0\n",
    "    G_theta[1] = G_theta1\n",
    "  \n",
    "    \n",
    "    return G_theta"
   ]
  },
  {
   "cell_type": "code",
   "execution_count": 11,
   "metadata": {},
   "outputs": [
    {
     "data": {
      "text/plain": [
       "array([-15.30301567, 598.16741084])"
      ]
     },
     "execution_count": 11,
     "metadata": {},
     "output_type": "execute_result"
    }
   ],
   "source": [
    "gradientDesc(theta)"
   ]
  },
  {
   "cell_type": "code",
   "execution_count": 12,
   "metadata": {},
   "outputs": [
    {
     "name": "stdout",
     "output_type": "stream",
     "text": [
      "Optimization terminated successfully.\n",
      "         Current function value: 22.373906\n",
      "         Iterations: 5\n",
      "         Function evaluations: 6\n",
      "         Gradient evaluations: 6\n"
     ]
    },
    {
     "data": {
      "text/plain": [
       "array([13.08790353,  0.36777923])"
      ]
     },
     "execution_count": 12,
     "metadata": {},
     "output_type": "execute_result"
    }
   ],
   "source": [
    "theta_optimum = fmin_bfgs(costFunctionReg, theta, gradientDesc)\n",
    "\n",
    "theta_optimum"
   ]
  },
  {
   "cell_type": "code",
   "execution_count": 13,
   "metadata": {},
   "outputs": [
    {
     "data": {
      "text/plain": [
       "Text(0,0.5,u'Water flowing out of the dam (y)')"
      ]
     },
     "execution_count": 13,
     "metadata": {},
     "output_type": "execute_result"
    },
    {
     "data": {
      "image/png": "[encoded data removed]",
      "text/plain": [
       "<matplotlib.figure.Figure at 0x254e270>"
      ]
     },
     "metadata": {
      "needs_background": "light"
     },
     "output_type": "display_data"
    }
   ],
   "source": [
    "X_plot = np.arange(-50, 40, 0.5)\n",
    "\n",
    "one = np.transpose(np.mat(np.ones(len(X_plot))))\n",
    "y_plot = np.hstack((one, np.transpose(np.mat(X_plot)))) * np.transpose(np.mat(theta_optimum))\n",
    "\n",
    "plt.figure(num = 1, figsize = (6, 6))\n",
    "plt.scatter(X, y, marker = \"x\", color = \"red\")\n",
    "plt.plot(X_plot, y_plot, color = \"blue\")\n",
    "plt.xlim((-50, 40))\n",
    "plt.ylim((-5, 40))\n",
    "plt.xlabel(\"Change in water level (x)\")\n",
    "plt.ylabel(\"Water flowing out of the dam (y)\")\n"
   ]
  },
  {
   "cell_type": "markdown",
   "metadata": {},
   "source": []
  },
  {
   "cell_type": "markdown",
   "metadata": {},
   "source": [
    "# 2. Bias-variance"
   ]
  },
  {
   "cell_type": "markdown",
   "metadata": {},
   "source": [
    "An important concept in machine learning is the bias-variance tradeoff. Models with high bias are not complex for the data and tend to underfit, while models with high variance overfit to the training data."
   ]
  },
  {
   "cell_type": "markdown",
   "metadata": {},
   "source": [
    "Learning curves"
   ]
  },
  {
   "cell_type": "markdown",
   "metadata": {},
   "source": [
    "A learning curve plots training and cross validation error as a function of training set size."
   ]
  },
  {
   "cell_type": "code",
   "execution_count": 14,
   "metadata": {},
   "outputs": [],
   "source": [
    "lambda1 = 0\n",
    "\n",
    "def learningCurve(theta):\n",
    "    error_train = np.zeros(m)\n",
    "    error_val = np.zeros(m)\n",
    "\n",
    "    Xval_mat = np.mat(Xval)\n",
    "    yval_mat = np.mat(yval)\n",
    "    \n",
    "    for i in range(1, m, 1):\n",
    "        X_train = X[:i]\n",
    "        y_train = y[:i]\n",
    "        \n",
    "        def costFunctionReg(theta):\n",
    "            one = np.transpose(np.mat(np.ones(len(X_train))))\n",
    "            X_train_mat = np.hstack((one, X_train))\n",
    "            theta_mat = np.transpose(np.mat(theta))\n",
    "            H_x = X_train_mat * theta_mat\n",
    "            y_train_mat = np.mat(y_train)\n",
    "    \n",
    "            J_theta = 1/(2*i) * sum(np.power(H_x - y_train_mat, 2)) + lambda1/(2*i) * sum(np.power(theta_mat, 2))\n",
    "  \n",
    "            return J_theta[0, 0]\n",
    "\n",
    "\n",
    "        def gradientDesc(theta):\n",
    "            one = np.transpose(np.mat(np.ones(len(X_train))))\n",
    "            X_train_mat = np.hstack((one, X_train))\n",
    "            theta_mat = np.transpose(np.mat(theta))\n",
    "            H_x = X_train_mat * theta_mat\n",
    "            y_train_mat = np.mat(y_train)\n",
    "    \n",
    "            J_theta = 1/(2*i) * sum(np.power(H_x - y_train_mat, 2)) + lambda1/(2*i) * sum(np.power(theta_mat, 2))\n",
    "    \n",
    "            G_theta = np.zeros(len(theta_mat))\n",
    "    \n",
    "            G_theta0 = 1/m * sum(H_x - y_train_mat)\n",
    "            G_theta1 = 1/m * sum(np.multiply(H_x - y_train_mat, X_train_mat[:, 1])) + lambda1/m * theta_mat[1, :] \n",
    "    \n",
    "            G_theta[0] = G_theta0\n",
    "            G_theta[1] = G_theta1\n",
    "  \n",
    "            return G_theta\n",
    "\n",
    "\n",
    "        theta_optimum = fmin_cg(costFunctionReg, theta, gradientDesc)\n",
    "    \n",
    "        def predict(theta_optimum):\n",
    "            one = np.transpose(np.mat(np.ones(len(X_train))))\n",
    "            X_train_mat = np.hstack((one, X_train))\n",
    "            theta_mat = np.transpose(np.mat(theta_optimum))\n",
    "            y_predict = X_train_mat * theta_mat\n",
    "            J_training = 1/(2*m) * sum(np.power(y_predict - y_train, 2))\n",
    "        \n",
    "            one_val = np.transpose(np.mat(np.ones(len(Xval))))\n",
    "            X_val_mat = np.hstack((one_val, Xval_mat))\n",
    "            y_val_predict = X_val_mat * theta_mat\n",
    "            J_validation = 1/(2*m) * sum(np.power(y_val_predict - yval_mat, 2))\n",
    "    \n",
    "            return (J_training[0, 0], J_validation[0, 0])\n",
    "    \n",
    "    \n",
    "        error_train[i-1] = predict(theta_optimum)[0]\n",
    "        error_val[i-1] = predict(theta_optimum)[1]\n",
    "    \n",
    "    \n",
    "    return error_train, error_val"
   ]
  },
  {
   "cell_type": "code",
   "execution_count": 15,
   "metadata": {},
   "outputs": [
    {
     "name": "stdout",
     "output_type": "stream",
     "text": [
      "Optimization terminated successfully.\n",
      "         Current function value: 0.000000\n",
      "         Iterations: 2\n",
      "         Function evaluations: 23\n",
      "         Gradient evaluations: 23\n",
      "Warning: Desired error not necessarily achieved due to precision loss.\n",
      "         Current function value: 1.482953\n",
      "         Iterations: 0\n",
      "         Function evaluations: 26\n",
      "         Gradient evaluations: 22\n",
      "Optimization terminated successfully.\n",
      "         Current function value: 3.286595\n",
      "         Iterations: 20\n",
      "         Function evaluations: 269\n",
      "         Gradient evaluations: 264\n",
      "Optimization terminated successfully.\n",
      "         Current function value: 2.842678\n",
      "         Iterations: 2\n",
      "         Function evaluations: 5\n",
      "         Gradient evaluations: 5\n",
      "Optimization terminated successfully.\n",
      "         Current function value: 13.154049\n",
      "         Iterations: 16\n",
      "         Function evaluations: 102\n",
      "         Gradient evaluations: 102\n",
      "Optimization terminated successfully.\n",
      "         Current function value: 19.443963\n",
      "         Iterations: 44\n",
      "         Function evaluations: 244\n",
      "         Gradient evaluations: 244\n",
      "Optimization terminated successfully.\n",
      "         Current function value: 20.098522\n",
      "         Iterations: 31\n",
      "         Function evaluations: 139\n",
      "         Gradient evaluations: 139\n",
      "Optimization terminated successfully.\n",
      "         Current function value: 18.172859\n",
      "         Iterations: 18\n",
      "         Function evaluations: 78\n",
      "         Gradient evaluations: 78\n",
      "Optimization terminated successfully.\n",
      "         Current function value: 22.609405\n",
      "         Iterations: 36\n",
      "         Function evaluations: 100\n",
      "         Gradient evaluations: 100\n",
      "Optimization terminated successfully.\n",
      "         Current function value: 23.261462\n",
      "         Iterations: 28\n",
      "         Function evaluations: 64\n",
      "         Gradient evaluations: 64\n",
      "Optimization terminated successfully.\n",
      "         Current function value: 24.317250\n",
      "         Iterations: 30\n",
      "         Function evaluations: 72\n",
      "         Gradient evaluations: 72\n"
     ]
    }
   ],
   "source": [
    "theta = np.array((0, 0))\n",
    "\n",
    "error_train, error_val = learningCurve(theta)"
   ]
  },
  {
   "cell_type": "code",
   "execution_count": 16,
   "metadata": {},
   "outputs": [
    {
     "data": {
      "text/plain": [
       "<matplotlib.legend.Legend at 0xa672b10>"
      ]
     },
     "execution_count": 16,
     "metadata": {},
     "output_type": "execute_result"
    },
    {
     "data": {
      "image/png": "[encoded data removed]",
      "text/plain": [
       "<matplotlib.figure.Figure at 0xa42c290>"
      ]
     },
     "metadata": {
      "needs_background": "light"
     },
     "output_type": "display_data"
    }
   ],
   "source": [
    "plt.figure(num = 1, figsize = (6, 6))\n",
    "X_plot = np.arange(1, m+1)\n",
    "\n",
    "plt.plot(X_plot, error_train, X_plot, error_val)\n",
    "plt.xlabel(\"Number of training examples\")\n",
    "plt.ylabel(\"Error\")\n",
    "plt.legend(labels = [\"Train\", \"Cross Validation\"])"
   ]
  },
  {
   "cell_type": "markdown",
   "metadata": {},
   "source": []
  },
  {
   "cell_type": "markdown",
   "metadata": {},
   "source": [
    "# 3. Polynomial Regression"
   ]
  },
  {
   "cell_type": "markdown",
   "metadata": {},
   "source": [
    "We obtain a linear regression model where the features are the various powers of the original value."
   ]
  },
  {
   "cell_type": "code",
   "execution_count": 17,
   "metadata": {},
   "outputs": [],
   "source": [
    "def polyFeatures(X, p):\n",
    "    \n",
    "    X_poly_mat = np.mat(np.zeros((len(X), p)))\n",
    "    X_mat = np.mat(X)\n",
    "    \n",
    "    for i in range(1, p+1, 1):\n",
    "        X_poly_mat[:, i-1] = np.power(X_mat[:, 0], i)\n",
    "    \n",
    "    \n",
    "    return X_poly_mat"
   ]
  },
  {
   "cell_type": "code",
   "execution_count": 18,
   "metadata": {},
   "outputs": [],
   "source": [
    "def norm(X, p):\n",
    "    X_poly_mat_norm = np.mat(np.zeros((len(X), p)))\n",
    "    X_poly_mat = np.mat(X)\n",
    "    \n",
    "    for i in range(0, p, 1):\n",
    "        mean = np.mean(X_poly_mat[:, i])\n",
    "        std = np.std(X_poly_mat[:, i])\n",
    "        X_poly_mat_norm[:, i] = (X_poly_mat[:, i] - mean) / std\n",
    "        \n",
    "        \n",
    "    return X_poly_mat_norm"
   ]
  },
  {
   "cell_type": "code",
   "execution_count": 19,
   "metadata": {},
   "outputs": [],
   "source": [
    "X_train_poly_mat = polyFeatures(X_train, 8)\n",
    "X_train_poly_mat_norm = norm(X_train_poly_mat, 8)\n",
    "\n",
    "one_train = np.transpose(np.mat(np.zeros(m)))\n",
    "X_train_poly_mat_norm = np.hstack((one_train, X_train_poly_mat_norm))\n",
    "\n",
    "\n",
    "\n",
    "X_test_poly_mat = polyFeatures(Xtest, 8)\n",
    "X_test_poly_mat_norm = norm(X_test_poly_mat, 8)\n",
    "\n",
    "one_test = np.transpose(np.mat(np.zeros(len(Xtest))))\n",
    "X_test_poly_mat_norm = np.hstack((one_test, X_test_poly_mat_norm))\n",
    "\n",
    "\n",
    "\n",
    "X_val_poly_mat = polyFeatures(Xval, 8)\n",
    "X_val_poly_mat_norm = norm(X_val_poly_mat, 8)\n",
    "\n",
    "one_val = np.transpose(np.mat(np.zeros(len(Xval))))\n",
    "X_val_poly_mat_norm = np.hstack((one_val, X_val_poly_mat_norm))\n"
   ]
  },
  {
   "cell_type": "code",
   "execution_count": 20,
   "metadata": {},
   "outputs": [],
   "source": [
    "lambda1 = 0\n",
    "\n",
    "def costFunctionReg(theta):\n",
    "    one = np.transpose(np.mat(np.ones(len(X_train_poly_mat))))\n",
    "    X_train_mat = np.hstack((one, X_train_poly_mat))\n",
    "    theta_mat = np.transpose(np.mat(theta))\n",
    "    H_x = X_train_mat * theta_mat\n",
    "    y_train_mat = np.mat(y)\n",
    "    \n",
    "    J_theta = 1/(2*m) * sum(np.power(H_x - y_train_mat, 2)) + lambda1/(2*m) * sum(np.power(theta_mat, 2))\n",
    "    \n",
    "    G_theta = np.zeros(len(theta_mat))\n",
    "    \n",
    "    G_theta0 = 1/m * sum(H_x - y_train_mat)\n",
    "    G_theta1 = 1/m * sum(np.multiply(H_x - y_train_mat, X_train_mat[:, 1])) + lambda1/m * theta_mat[1, :] \n",
    "    \n",
    "    G_theta[0] = G_theta0\n",
    "    G_theta[1] = G_theta1\n",
    "  \n",
    "    \n",
    "    return J_theta[0, 0]\n",
    "\n",
    "\n",
    "\n",
    "def gradientDesc(theta):\n",
    "    one = np.transpose(np.mat(np.ones(len(X_train_poly_mat))))\n",
    "    X_train_mat = np.hstack((one, X_train_poly_mat))\n",
    "    theta_mat = np.transpose(np.mat(theta))\n",
    "    H_x = X_train_mat * theta_mat\n",
    "    y_train_mat = np.mat(y)\n",
    "    \n",
    "    J_theta = 1/(2*m) * sum(np.power(H_x - y_train_mat, 2)) + lambda1/(2*m) * sum(np.power(theta_mat, 2))\n",
    "    \n",
    "    G_theta = np.zeros(len(theta_mat))\n",
    "    \n",
    "    G_theta0 = 1/m * sum(H_x - y_train_mat)\n",
    "    G_theta1 = 1/m * sum(np.multiply(H_x - y_train_mat, X_train_mat[:, 1])) + lambda1/m * theta_mat[1, :] \n",
    "    \n",
    "    G_theta[0] = G_theta0\n",
    "    G_theta[1] = G_theta1\n",
    "  \n",
    "    \n",
    "    return G_theta"
   ]
  },
  {
   "cell_type": "code",
   "execution_count": 21,
   "metadata": {},
   "outputs": [
    {
     "data": {
      "text/plain": [
       "array([ -11.21758933, -245.65199649,    0.        ,    0.        ,\n",
       "          0.        ,    0.        ,    0.        ,    0.        ,\n",
       "          0.        ])"
      ]
     },
     "execution_count": 21,
     "metadata": {},
     "output_type": "execute_result"
    }
   ],
   "source": [
    "theta = np.zeros(np.shape(X_train_poly_mat)[1] + 1)\n",
    "\n",
    "gradientDesc(theta)"
   ]
  },
  {
   "cell_type": "code",
   "execution_count": 22,
   "metadata": {},
   "outputs": [
    {
     "name": "stdout",
     "output_type": "stream",
     "text": [
      "Optimization terminated successfully.\n",
      "         Current function value: 22.373906\n",
      "         Iterations: 3\n",
      "         Function evaluations: 5\n",
      "         Gradient evaluations: 5\n"
     ]
    }
   ],
   "source": [
    "theta_optimum = fmin_bfgs(costFunctionReg, theta, gradientDesc)"
   ]
  },
  {
   "cell_type": "code",
   "execution_count": 23,
   "metadata": {},
   "outputs": [
    {
     "data": {
      "text/plain": [
       "array([13.08790351,  0.36777923,  0.        ,  0.        ,  0.        ,\n",
       "        0.        ,  0.        ,  0.        ,  0.        ])"
      ]
     },
     "execution_count": 23,
     "metadata": {},
     "output_type": "execute_result"
    }
   ],
   "source": [
    "theta_optimum"
   ]
  },
  {
   "cell_type": "markdown",
   "metadata": {},
   "source": []
  }
 ],
 "metadata": {
  "kernelspec": {
   "display_name": "Python 2",
   "language": "python",
   "name": "python2"
  },
  "language_info": {
   "codemirror_mode": {
    "name": "ipython",
    "version": 2
   },
   "file_extension": ".py",
   "mimetype": "text/x-python",
   "name": "python",
   "nbconvert_exporter": "python",
   "pygments_lexer": "ipython2",
   "version": "2.7.14"
  }
 },
 "nbformat": 4,
 "nbformat_minor": 2
}
