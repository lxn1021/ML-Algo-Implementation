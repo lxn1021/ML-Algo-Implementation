{
 "cells": [
  {
   "cell_type": "markdown",
   "metadata": {},
   "source": [
    "# Support Vector Machines"
   ]
  },
  {
   "cell_type": "markdown",
   "metadata": {},
   "source": [
    "In this part, we will be using Support Vector Machines (SVMs) to build a spam classifier."
   ]
  },
  {
   "cell_type": "markdown",
   "metadata": {},
   "source": [
    "# 1. Support Vector Machines"
   ]
  },
  {
   "cell_type": "markdown",
   "metadata": {},
   "source": [
    "In the first half, we will be using Support Vector Machines (SVMs) with various example 2D datasets."
   ]
  },
  {
   "cell_type": "markdown",
   "metadata": {},
   "source": [
    "Example Dataset 1"
   ]
  },
  {
   "cell_type": "code",
   "execution_count": 3,
   "metadata": {},
   "outputs": [],
   "source": [
    "import mat4py as mat\n",
    "import numpy as np\n",
    "import matplotlib.pyplot as plt\n",
    "import random\n",
    "from __future__ import division"
   ]
  },
  {
   "cell_type": "code",
   "execution_count": 4,
   "metadata": {},
   "outputs": [
    {
     "data": {
      "text/plain": [
       "<matplotlib.legend.Legend at 0xa024cb0>"
      ]
     },
     "execution_count": 4,
     "metadata": {},
     "output_type": "execute_result"
    },
    {
     "data": {
      "image/png": "[encoded data removed]",
      "text/plain": [
       "<matplotlib.figure.Figure at 0x9fdcbf0>"
      ]
     },
     "metadata": {
      "needs_background": "light"
     },
     "output_type": "display_data"
    }
   ],
   "source": [
    "data1 = mat.loadmat(\"E:\\\\Machine Learning\\\\1\\\\ex6data1.mat\")\n",
    "\n",
    "X = np.mat(data1[\"X\"])\n",
    "y = np.mat(data1[\"y\"])\n",
    "X1 = X[:, 0]\n",
    "X2 = X[:, 1]\n",
    "\n",
    "plt.figure(num = 1, figsize = (6, 6))\n",
    "plt.scatter([X1[y == 1]], [X2[y == 1]], marker = \"+\", color = \"black\")\n",
    "plt.scatter([X1[y == 0]], [X2[y == 0]], marker = \"o\", color = \"yellow\")\n",
    "plt.legend(labels = [\"Positive\", \"Negative\"])"
   ]
  },
  {
   "cell_type": "markdown",
   "metadata": {},
   "source": [
    "In this dataset, the positions of the positive examples and the negative examples suggest a natural separation indicated by the gap. Notice that there is an outlier positive example + on the far left."
   ]
  },
  {
   "cell_type": "code",
   "execution_count": 5,
   "metadata": {},
   "outputs": [],
   "source": [
    "tol = 1e-3\n",
    "max_passes = 5\n",
    "C = 1\n",
    "\n",
    "def svmTrainLinearKernel(X, y, C, tol, max_passes):\n",
    "    m = np.shape(X)[0]\n",
    "    n = np.shape(X)[1]\n",
    "    \n",
    "    # Map 0 to -1\n",
    "    y[y == 0] = -1\n",
    "    \n",
    "    alphas = np.transpose(np.mat(np.zeros(m)))\n",
    "    b = 0\n",
    "    E = np.zeros(m)\n",
    "    passes = 0\n",
    "    eta= 0\n",
    "    L = 0\n",
    "    H = 0\n",
    "    \n",
    "    # Pre-compute the Kernel Matri\n",
    "    K = X * np.transpose(X)\n",
    "    \n",
    "    \n",
    "    # Train\n",
    "    while passes < max_passes:\n",
    "        \n",
    "        num_changed_alphas = 0\n",
    "\n",
    "        for i in range(0, m, 1):\n",
    "            \n",
    "            # Calculate Ei = f(x(i)) - y(i) = sum(alpha * y * K[:, i]) + b - y(i)\n",
    "            E[i] = b + (sum(np.multiply(np.multiply(alphas, y), K[:, i])) - y[i, :])[0, 0]\n",
    "\n",
    "            if (y[i, :][0, 0] * E[i] < -tol and alphas[i][0, 0] < C) or (y[i, :][0, 0] * E[i] > tol and alphas[i][0, 0] > 0):\n",
    "                j = int(np.floor(m * random.uniform(0, 1)))\n",
    "                while (j == i):\n",
    "                    j = int(np.floor(m * random.uniform(0, 1)))\n",
    "\n",
    "                    \n",
    "                # Calculate Ej = f(x(j)) - y(j) = sum(alpha * y * K[:, j]) + b - y(j)\n",
    "                E[j] = b + (sum(np.multiply(np.multiply(alphas, y), K[:, j])) - y[j, :])[0, 0]\n",
    "\n",
    "                \n",
    "                # Save old alphas\n",
    "                alpha_i_old = alphas[i][0, 0]\n",
    "                alpha_j_old = alphas[j][0, 0]\n",
    "\n",
    "                \n",
    "                # Compute L and H\n",
    "                if (y[i, :] == y[j, :]):\n",
    "                    L = max(0, alphas[j][0, 0] + alphas[i][0, 0] - C)\n",
    "                    H = min(C, alphas[j][0, 0] + alphas[i][0, 0])\n",
    "                else:\n",
    "                    L = max(0, alphas[j][0, 0] - alphas[i][0, 0])\n",
    "                    H = min(C, C + alphas[j][0, 0] - alphas[i][0, 0])\n",
    "\n",
    "                if (L == H):\n",
    "                    # continue to next i\n",
    "                    continue\n",
    "                    \n",
    "\n",
    "                # Compute eta \n",
    "                eta = 2 * K[i, j] - K[i, i] - K[j, j]\n",
    "                if (eta >= 0):\n",
    "                    # continue to next i\n",
    "                    continue\n",
    "\n",
    "                    \n",
    "                # Compute and clip new value for alpha j \n",
    "                alphas[j] = alphas[j] - (y[j, :] * (E[i] - E[j])) / eta\n",
    "\n",
    "                \n",
    "                # Clip\n",
    "                alphas[j] = min(H, alphas[j])\n",
    "                alphas[j] = max(L, alphas[j])\n",
    "\n",
    "                \n",
    "                # Check if change in alpha is significant\n",
    "                if (abs(alphas[j][0, 0] - alpha_j_old) < tol):\n",
    "                    alphas[j] = alpha_j_old\n",
    "                    continue\n",
    "\n",
    "                    \n",
    "                # Determine value for alpha i\n",
    "                alphas[i] = alphas[i] + y[i, :] * y[j, :] * (alpha_j_old - alphas[j][0, 0])\n",
    "\n",
    "                \n",
    "                # Compute b1 and b2\n",
    "                b1 = b - E[i] - y[i, :] * (alphas[i][0, 0] - alpha_i_old) * np.transpose(K[i, j]) \\\n",
    "                        - y[j, :] * (alphas[j][0, 0] - alpha_j_old) * np.transpose(K[i, j])\n",
    "                b2 = b - E[j] - y[i, :] * (alphas[i][0, 0] - alpha_i_old) * np.transpose(K[i, j]) \\\n",
    "                        - y[j, :] * (alphas[j][0, 0] - alpha_j_old) * np.transpose(K[j, j])\n",
    "\n",
    "                # Compute b\n",
    "                if (0 < alphas[i, :] and alphas[i, :] < C):\n",
    "                    b = b1\n",
    "                elif (0 < alphas[j, :] and alphas[j, :] < C):\n",
    "                    b = b2\n",
    "                else:\n",
    "                    b = (b1 + b2) / 2\n",
    "\n",
    "\n",
    "                num_changed_alphas = num_changed_alphas + 1\n",
    "    \n",
    "    \n",
    "        if (num_changed_alphas == 0):\n",
    "            passes = passes + 1\n",
    "        else:\n",
    "            passes = 0\n",
    "            \n",
    "    \n",
    "    idx = np.where(alphas > 0)[0]\n",
    "    model_X = X[idx, :]\n",
    "    model_y = y[idx, :]\n",
    "    model_b = b\n",
    "    model_alphas = alphas[idx]\n",
    "    model_w = np.transpose(np.transpose(np.multiply(alphas, y)) * X)\n",
    "    \n",
    "    \n",
    "    return (model_w, model_b)"
   ]
  },
  {
   "cell_type": "code",
   "execution_count": 6,
   "metadata": {},
   "outputs": [],
   "source": [
    "C = 1\n",
    "\n",
    "model_w = svmTrainLinearKernel(X, y, C, tol, max_passes)[0]\n",
    "model_b = svmTrainLinearKernel(X, y, C, tol, max_passes)[1]\n",
    "\n",
    "def visualizeBoundaryLinear(X, y, model_w, model_b):\n",
    "    w = np.array(model_w)\n",
    "    b = model_b[0, 0]\n",
    "    xp = np.linspace(0, 5, 100)\n",
    "    yp = -(w[0] * xp + b) / w[1]\n",
    "    \n",
    "    plt.figure(num = 1, figsize = (6, 6))\n",
    "    plt.scatter([X1[y == 1]], [X2[y == 1]], marker = \"+\", color = \"black\")\n",
    "    plt.scatter([X1[y == -1]], [X2[y == -1]], marker = \"o\", color = \"yellow\")\n",
    "    plt.plot(xp, yp)\n",
    "    plt.legend(labels = [\"Decision Boundary\", \"Positive\", \"Negative\"], loc = \"upper right\")\n",
    "    \n",
    "    \n",
    "    return"
   ]
  },
  {
   "cell_type": "code",
   "execution_count": 7,
   "metadata": {},
   "outputs": [
    {
     "data": {
      "image/png": "[encoded data removed]",
      "text/plain": [
       "<matplotlib.figure.Figure at 0xa0b03b0>"
      ]
     },
     "metadata": {
      "needs_background": "light"
     },
     "output_type": "display_data"
    }
   ],
   "source": [
    "visualizeBoundaryLinear(X, y, model_w, model_b)"
   ]
  },
  {
   "cell_type": "code",
   "execution_count": 9,
   "metadata": {},
   "outputs": [
    {
     "data": {
      "image/png": "[encoded data removed]",
      "text/plain": [
       "<matplotlib.figure.Figure at 0xa215a70>"
      ]
     },
     "metadata": {
      "needs_background": "light"
     },
     "output_type": "display_data"
    }
   ],
   "source": [
    "C = 100\n",
    "\n",
    "model_w = svmTrainLinearKernel(X, y, C, tol, max_passes)[0]\n",
    "model_b = svmTrainLinearKernel(X, y, C, tol, max_passes)[1]\n",
    "\n",
    "visualizeBoundaryLinear(X, y, model_w, model_b)"
   ]
  },
  {
   "cell_type": "markdown",
   "metadata": {},
   "source": []
  },
  {
   "cell_type": "markdown",
   "metadata": {},
   "source": [
    "SVM with Gaussian Kernels"
   ]
  },
  {
   "cell_type": "markdown",
   "metadata": {},
   "source": [
    "In this part, we will be using SVMs to do non-linear classification. "
   ]
  },
  {
   "cell_type": "markdown",
   "metadata": {},
   "source": [
    "Gaussian Kernel"
   ]
  },
  {
   "cell_type": "markdown",
   "metadata": {},
   "source": [
    "We can think of the Gaussian Kernel as a similarity function that measures the \"distance\" between a pair of examples, (x(i), x(j))."
   ]
  },
  {
   "cell_type": "markdown",
   "metadata": {},
   "source": [
    "K_gaussian(x(i), x(j)) = exp(-||x(i) - x(j)||^2 / (2 * sigma^2)) = exp(-sum(x(i) - x(j))^2)"
   ]
  },
  {
   "cell_type": "code",
   "execution_count": 460,
   "metadata": {},
   "outputs": [],
   "source": [
    "X1 = np.array((1, 2, 1))\n",
    "X2 = np.array((0, 4, -1))\n",
    "sigma = 2\n",
    "\n",
    "def guassianKernel(X1, X2, sigma):\n",
    "    sim = np.exp(-sum(np.power(X1 - X2, 2)) / (2 * (sigma ** 2)))\n",
    "    \n",
    "    return sim"
   ]
  },
  {
   "cell_type": "code",
   "execution_count": 461,
   "metadata": {},
   "outputs": [
    {
     "data": {
      "text/plain": [
       "0.32465246735834974"
      ]
     },
     "execution_count": 461,
     "metadata": {},
     "output_type": "execute_result"
    }
   ],
   "source": [
    "guassianKernel(X1, X2, sigma)"
   ]
  },
  {
   "cell_type": "markdown",
   "metadata": {},
   "source": []
  },
  {
   "cell_type": "markdown",
   "metadata": {},
   "source": [
    "Example Dataset 2"
   ]
  },
  {
   "cell_type": "code",
   "execution_count": 475,
   "metadata": {},
   "outputs": [
    {
     "data": {
      "text/plain": [
       "<matplotlib.collections.PathCollection at 0xcc47f10>"
      ]
     },
     "execution_count": 475,
     "metadata": {},
     "output_type": "execute_result"
    },
    {
     "data": {
      "image/png": "[encoded data removed]",
      "text/plain": [
       "<matplotlib.figure.Figure at 0xb1b3a70>"
      ]
     },
     "metadata": {
      "needs_background": "light"
     },
     "output_type": "display_data"
    }
   ],
   "source": [
    "data2 = mat.loadmat(\"E:\\\\Machine Learning\\\\1\\\\ex6data2.mat\")\n",
    "\n",
    "X = np.mat(data2[\"X\"])\n",
    "y = np.mat(data2[\"y\"])\n",
    "\n",
    "X1 = X[:, 0]\n",
    "X2 = X[:, 1]\n",
    "\n",
    "plt.figure(num = 1, figsize = (6, 6))\n",
    "plt.scatter([X1[y == 1]], [X2[y == 1]], marker = \"+\", color = \"black\")\n",
    "plt.scatter([X1[y == 0]], [X2[y == 0]], marker = \"o\", color = \"yellow\")"
   ]
  },
  {
   "cell_type": "code",
   "execution_count": 737,
   "metadata": {},
   "outputs": [],
   "source": [
    "tol = 1e-3\n",
    "max_passes = 5\n",
    "C = 1\n",
    "\n",
    "def svmTrainGaussianKernel(X, y, C, tol, max_passes):\n",
    "    m = np.shape(X)[0]\n",
    "    n = np.shape(X)[1]\n",
    "    \n",
    "    # Map 0 to -1\n",
    "    y[y == 0] = -1\n",
    "    \n",
    "    alphas = np.transpose(np.mat(np.zeros(m)))\n",
    "    b = 0\n",
    "    E = np.zeros(m)\n",
    "    passes = 0\n",
    "    eta= 0\n",
    "    L = 0\n",
    "    H = 0\n",
    "    \n",
    "    # Pre-compute the Kernel Matrix\n",
    "    K = np.zeros(np.shape(X)[0] * np.shape(X)[0])\n",
    "    K = K.reshape((np.shape(X)[0], np.shape(X)[0]))\n",
    "\n",
    "    for j in range(0, np.shape(X)[0], 1):\n",
    "        L = X[j]\n",
    "\n",
    "        for i in range(0, np.shape(X)[0], 1):\n",
    "            distance = np.sum(np.power(X[i] - L, 2), axis = 1)[0, 0]\n",
    "            K[i, j] = np.exp(-distance / (2 * (sigma ** 2)))\n",
    "            K[j, i] = K[i, j]\n",
    "\n",
    "    \n",
    "    # Train\n",
    "    while passes < max_passes:\n",
    "        \n",
    "        num_changed_alphas = 0\n",
    "\n",
    "        for i in range(0, m, 1):\n",
    "            \n",
    "            # Calculate Ei = f(x(i)) - y(i) = sum(alpha * y * K[:, i]) + b - y(i)\n",
    "            E[i] = b + (sum(np.multiply(np.multiply(alphas, y), K[:, i])) - y[i, :])[0, 0]\n",
    "\n",
    "            if (y[i, :][0, 0] * E[i] < -tol and alphas[i][0, 0] < C) or (y[i, :][0, 0] * E[i] > tol and alphas[i][0, 0] > 0):\n",
    "                j = int(np.floor(m * random.uniform(0, 1)))\n",
    "                while (j == i):\n",
    "                    j = int(np.floor(m * random.uniform(0, 1)))\n",
    "\n",
    "                    \n",
    "                # Calculate Ej = f(x(j)) - y(j) = sum(alpha * y * K[:, j]) + b - y(j)\n",
    "                E[j] = b + (sum(np.multiply(np.multiply(alphas, y), K[:, j])) - y[j, :])[0, 0]\n",
    "\n",
    "                \n",
    "                # Save old alphas\n",
    "                alpha_i_old = alphas[i][0, 0]\n",
    "                alpha_j_old = alphas[j][0, 0]\n",
    "\n",
    "                \n",
    "                # Compute L and H\n",
    "                if (y[i, :] == y[j, :]):\n",
    "                    L = max(0, alphas[j][0, 0] + alphas[i][0, 0] - C)\n",
    "                    H = min(C, alphas[j][0, 0] + alphas[i][0, 0])\n",
    "                else:\n",
    "                    L = max(0, alphas[j][0, 0] - alphas[i][0, 0])\n",
    "                    H = min(C, C + alphas[j][0, 0] - alphas[i][0, 0])\n",
    "\n",
    "                if (L == H):\n",
    "                    # continue to next i\n",
    "                    continue\n",
    "                    \n",
    "\n",
    "                # Compute eta \n",
    "                eta = 2 * K[i, j] - K[i, i] - K[j, j]\n",
    "                if (eta >= 0):\n",
    "                    # continue to next i\n",
    "                    continue\n",
    "\n",
    "                    \n",
    "                # Compute and clip new value for alpha j \n",
    "                alphas[j] = alphas[j] - (y[j, :] * (E[i] - E[j])) / eta\n",
    "\n",
    "                \n",
    "                # Clip\n",
    "                alphas[j] = min(H, alphas[j])\n",
    "                alphas[j] = max(L, alphas[j])\n",
    "\n",
    "                \n",
    "                # Check if change in alpha is significant\n",
    "                if (abs(alphas[j][0, 0] - alpha_j_old) < tol):\n",
    "                    alphas[j] = alpha_j_old\n",
    "                    continue\n",
    "\n",
    "                    \n",
    "                # Determine value for alpha i\n",
    "                alphas[i] = alphas[i] + y[i, :] * y[j, :] * (alpha_j_old - alphas[j][0, 0])\n",
    "\n",
    "                \n",
    "                # Compute b1 and b2\n",
    "                b1 = b - E[i] - y[i, :] * (alphas[i][0, 0] - alpha_i_old) * np.transpose(K[i, j]) \\\n",
    "                        - y[j, :] * (alphas[j][0, 0] - alpha_j_old) * np.transpose(K[i, j])\n",
    "                b2 = b - E[j] - y[i, :] * (alphas[i][0, 0] - alpha_i_old) * np.transpose(K[i, j]) \\\n",
    "                        - y[j, :] * (alphas[j][0, 0] - alpha_j_old) * np.transpose(K[j, j])\n",
    "\n",
    "                # Compute b\n",
    "                if (0 < alphas[i, :] and alphas[i, :] < C):\n",
    "                    b = b1\n",
    "                elif (0 < alphas[j, :] and alphas[j, :] < C):\n",
    "                    b = b2\n",
    "                else:\n",
    "                    b = (b1 + b2) / 2\n",
    "\n",
    "\n",
    "                num_changed_alphas = num_changed_alphas + 1\n",
    "    \n",
    "    \n",
    "        if (num_changed_alphas == 0):\n",
    "            passes = passes + 1\n",
    "        else:\n",
    "            passes = 0\n",
    "            \n",
    "    \n",
    "#     idx = np.where(alphas > 0)[0]\n",
    "#     model_X = X[idx, :]\n",
    "#     model_y = y[idx, :]\n",
    "#     model_b = b\n",
    "#     model_alphas = alphas[idx]\n",
    "#     model_w = np.transpose(np.transpose(np.multiply(alphas, y)) * X)\n",
    "    \n",
    "    \n",
    "    return (alphas, b, K)"
   ]
  },
  {
   "cell_type": "markdown",
   "metadata": {},
   "source": [
    "Questions: How to compute Gaussian Kernel efficiently? "
   ]
  },
  {
   "cell_type": "code",
   "execution_count": 738,
   "metadata": {},
   "outputs": [],
   "source": [
    "C = 1\n",
    "\n",
    "model_alphas = svmTrainGaussianKernel(X, y, C, tol, max_passes)[0]\n",
    "model_b = svmTrainGaussianKernel(X, y, C, tol, max_passes)[1]\n",
    "model_K = svmTrainGaussianKernel(X, y, C, tol, max_passes)[2]\n"
   ]
  },
  {
   "cell_type": "code",
   "execution_count": 985,
   "metadata": {},
   "outputs": [],
   "source": [
    "def svmPred(X, model_K):\n",
    "    pred = np.zeros(np.shape(X)[0])\n",
    "\n",
    "    for i in range(0, np.shape(X)[0], 1):\n",
    "        model_K_mat = np.transpose(np.mat(model_K)[i, :])\n",
    "        pred[i] = pred[i] + sum(np.multiply(np.multiply(model_alphas, y), model_K_mat))[0, 0] \n",
    "        \n",
    "    \n",
    "    return pred"
   ]
  },
  {
   "cell_type": "code",
   "execution_count": 991,
   "metadata": {},
   "outputs": [],
   "source": [
    "def kernelFunction(X):\n",
    "    K = np.zeros(np.shape(X)[0] * np.shape(X)[0])\n",
    "    K = K.reshape((np.shape(X)[0], np.shape(X)[0]))\n",
    "\n",
    "    for j in range(0, np.shape(X)[0], 1):\n",
    "        L = X[j]\n",
    "\n",
    "        for i in range(0, np.shape(X)[0], 1):\n",
    "            distance = np.sum(np.power(X[i] - L, 2), axis = 1)[0, 0]\n",
    "            K[i, j] = np.exp(-distance / (2 * (sigma ** 2)))\n",
    "            K[j, i] = K[i, j]\n",
    "    \n",
    "    return K"
   ]
  },
  {
   "cell_type": "code",
   "execution_count": 1007,
   "metadata": {},
   "outputs": [],
   "source": [
    "x1plot = X1\n",
    "x2plot = X2\n",
    "[X11, X22] = np.meshgrid(x1plot, x2plot)\n",
    "vals = np.zeros(len(X1) * len(X1))\n",
    "vals = np.reshape(vals, (len(X1), len(X1)))\n",
    "vals_mat = np.mat(vals)\n",
    "\n",
    "this_X = np.zeros(len(X1) * 2)\n",
    "this_X = np.reshape(this_X, (len(X1), 2))\n",
    "this_X_mat = np.mat(this_X)\n",
    "\n",
    "\n",
    "for col in range(0, np.shape(X1)[0], 1):\n",
    "    for row in range(0, np.shape(X1)[0], 1):\n",
    "        this_X_mat[row] = [X11[row, col], X22[row, col]]\n",
    "\n",
    "    model_K_plot = kernelFunction(this_X_mat)\n",
    "    vals_mat[:, col] = np.transpose(np.mat(svmPred(this_X_mat, model_K_plot)))\n",
    "    \n"
   ]
  },
  {
   "cell_type": "code",
   "execution_count": 1006,
   "metadata": {},
   "outputs": [
    {
     "data": {
      "text/plain": [
       "matrix([[-1.44069939,  0.        ],\n",
       "        [-1.1342405 ,  0.        ],\n",
       "        [-0.76795784,  0.        ],\n",
       "        ...,\n",
       "        [-2.49063495,  0.        ],\n",
       "        [-2.57869802,  0.        ],\n",
       "        [-2.64450409,  0.        ]])"
      ]
     },
     "execution_count": 1006,
     "metadata": {},
     "output_type": "execute_result"
    }
   ],
   "source": [
    "vals_mat[:, 0:2]"
   ]
  },
  {
   "cell_type": "markdown",
   "metadata": {},
   "source": []
  }
 ],
 "metadata": {
  "kernelspec": {
   "display_name": "Python 2",
   "language": "python",
   "name": "python2"
  },
  "language_info": {
   "codemirror_mode": {
    "name": "ipython",
    "version": 2
   },
   "file_extension": ".py",
   "mimetype": "text/x-python",
   "name": "python",
   "nbconvert_exporter": "python",
   "pygments_lexer": "ipython2",
   "version": "2.7.14"
  }
 },
 "nbformat": 4,
 "nbformat_minor": 2
}
